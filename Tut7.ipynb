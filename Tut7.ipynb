{
  "nbformat": 4,
  "nbformat_minor": 0,
  "metadata": {
    "colab": {
      "name": "Tut7.ipynb",
      "version": "0.3.2",
      "provenance": []
    },
    "kernelspec": {
      "name": "python3",
      "display_name": "Python 3"
    }
  },
  "cells": [
    {
      "cell_type": "code",
      "metadata": {
        "id": "3o7BHokLIe7O",
        "colab_type": "code",
        "colab": {
          "base_uri": "https://localhost:8080/",
          "height": 191
        },
        "outputId": "00199c5e-bea3-410a-f6b7-8722a6a0d2fe"
      },
      "source": [
        "#code for switching between the players\n",
        "import itertools\n",
        "player_choice = itertools.cycle([1,2])\n",
        "\n",
        "for i in range(10):\n",
        "  print(next(player_choice))"
      ],
      "execution_count": 1,
      "outputs": [
        {
          "output_type": "stream",
          "text": [
            "1\n",
            "2\n",
            "1\n",
            "2\n",
            "1\n",
            "2\n",
            "1\n",
            "2\n",
            "1\n",
            "2\n"
          ],
          "name": "stdout"
        }
      ]
    },
    {
      "cell_type": "code",
      "metadata": {
        "id": "USqbolF2IkZv",
        "colab_type": "code",
        "colab": {
          "base_uri": "https://localhost:8080/",
          "height": 1109
        },
        "outputId": "b7ea3be2-b4eb-4b88-c912-fa0b85fd85ea"
      },
      "source": [
        "\n",
        "# switching between the players\n",
        "import itertools\n",
        "\n",
        "game = [[1,2,2],\n",
        "        [1,1,2],\n",
        "        [1,2,1],]\n",
        "#HORZONTAL\n",
        "def win(current_game):\n",
        "  for row in game:\n",
        "    print(row)\n",
        "    if row.count(row[0]) == len(row) and row[0] != 0:\n",
        "          print(f\"player{row[0]} is the winner horizontally\")\n",
        "        \n",
        "        \n",
        "  #DIAGONAL\n",
        "  diags = []\n",
        "  for col,row in enumerate (reversed(range(len(game)))):\n",
        "    diags.append(game[row][col])\n",
        "  if diags.count(diags[0]) == len(diags) and diags[0] != 0:\n",
        "    print(f\"player{diags[0]} is the winner diagonally(/)\") \n",
        "    \n",
        "  diags = []\n",
        "  for ix in range(len(game)):\n",
        "    diags.append(game[ix][ix])\n",
        "  if diags.count(diags[0]) == len(diags) and diags[0] != 0:\n",
        "    print(f\"player{diags[0]} is the winner diagonally(\\\\)\")  \n",
        "    \n",
        "    \n",
        "  #VERTICAL  \n",
        "  for col in range(len(game)):\n",
        "    check = []\n",
        "    for row in game:\n",
        "      check.append(row[col])\n",
        "    if check.count(check[0]) == len(check) and check[0] != 0:\n",
        "      print(f\"player{diags[0]} is the winner vertically (|)\") \n",
        "      \n",
        "      \n",
        "      \n",
        "def game_board(game_map,player=0,row=0,column=0,just_display=False):             #this is a function defination  #gamemap is passed\n",
        "  try:\n",
        "    print(\"   0  1  2\")                                                          #and from here function body begins\n",
        "    if not just_display:\n",
        "      game_map[row][column]=player                                               #modify it temporarily i.e parameter value \n",
        "    for count,row in enumerate(game_map):                                        #row will point to 1st elemenet of list i.e list which is [0,0,0] and count wil represent to elements of list inside list i.e 0\n",
        "      print(count,row) \n",
        "    return game_map\n",
        "  except IndexError as e:\n",
        "    print('make sure you input row/column as 0 1 or 2 ',e)\n",
        "  except Exception as e:\n",
        "    print('something went very wrong!! ',e)\n",
        "\n",
        "play = True\n",
        "players = [1,2]\n",
        "while play:\n",
        "  game = [[0,0,0],\n",
        "          [0,0,0],\n",
        "          [0,0,0],]\n",
        "  game_won = False\n",
        "  game = game_board(game,just_display= True) \n",
        "  player_choice = itertools.cycle([1,2])\n",
        "  while not game_won:\n",
        "    current_player = next(player_choice)\n",
        "    print(f\"current player: {current_player}\")\n",
        "    column_choice = int(input(\"what column do you want to play?(0,1,2):\"))\n",
        "    row_choice = int(input(\"what row do you want to play?(0,1,2):\"))\n",
        "    game = game_board(game,current_player,row_choice,column_choice)                        \n",
        "\n",
        "    \n",
        "#player = int(input('enter a number 0 or 1'))  \n",
        "#game = game_board(game,just_display= True)                                       #now functionis called and its value is passed to game variable\n",
        "#game = game_board(game_board,player=1,row=3,column=0)                        \n",
        "\n",
        "      \n",
        "#win(game)  "
      ],
      "execution_count": 2,
      "outputs": [
        {
          "output_type": "stream",
          "text": [
            "   0  1  2\n",
            "0 [0, 0, 0]\n",
            "1 [0, 0, 0]\n",
            "2 [0, 0, 0]\n",
            "current player: 1\n",
            "what column do you want to play?(0,1,2):0\n",
            "what row do you want to play?(0,1,2):1\n",
            "   0  1  2\n",
            "0 [0, 0, 0]\n",
            "1 [1, 0, 0]\n",
            "2 [0, 0, 0]\n",
            "current player: 2\n",
            "what column do you want to play?(0,1,2):0\n",
            "what row do you want to play?(0,1,2):2\n",
            "   0  1  2\n",
            "0 [0, 0, 0]\n",
            "1 [1, 0, 0]\n",
            "2 [2, 0, 0]\n",
            "current player: 1\n",
            "what column do you want to play?(0,1,2):0\n",
            "what row do you want to play?(0,1,2):0\n",
            "   0  1  2\n",
            "0 [1, 0, 0]\n",
            "1 [1, 0, 0]\n",
            "2 [2, 0, 0]\n",
            "current player: 2\n",
            "what column do you want to play?(0,1,2):0\n",
            "what row do you want to play?(0,1,2):1\n",
            "   0  1  2\n",
            "0 [1, 0, 0]\n",
            "1 [2, 0, 0]\n",
            "2 [2, 0, 0]\n",
            "current player: 1\n"
          ],
          "name": "stdout"
        },
        {
          "output_type": "error",
          "ename": "KeyboardInterrupt",
          "evalue": "ignored",
          "traceback": [
            "\u001b[0;31m---------------------------------------------------------------------------\u001b[0m",
            "\u001b[0;31mKeyboardInterrupt\u001b[0m                         Traceback (most recent call last)",
            "\u001b[0;32m/usr/local/lib/python3.6/dist-packages/ipykernel/kernelbase.py\u001b[0m in \u001b[0;36m_input_request\u001b[0;34m(self, prompt, ident, parent, password)\u001b[0m\n\u001b[1;32m    729\u001b[0m             \u001b[0;32mtry\u001b[0m\u001b[0;34m:\u001b[0m\u001b[0;34m\u001b[0m\u001b[0;34m\u001b[0m\u001b[0m\n\u001b[0;32m--> 730\u001b[0;31m                 \u001b[0mident\u001b[0m\u001b[0;34m,\u001b[0m \u001b[0mreply\u001b[0m \u001b[0;34m=\u001b[0m \u001b[0mself\u001b[0m\u001b[0;34m.\u001b[0m\u001b[0msession\u001b[0m\u001b[0;34m.\u001b[0m\u001b[0mrecv\u001b[0m\u001b[0;34m(\u001b[0m\u001b[0mself\u001b[0m\u001b[0;34m.\u001b[0m\u001b[0mstdin_socket\u001b[0m\u001b[0;34m,\u001b[0m \u001b[0;36m0\u001b[0m\u001b[0;34m)\u001b[0m\u001b[0;34m\u001b[0m\u001b[0;34m\u001b[0m\u001b[0m\n\u001b[0m\u001b[1;32m    731\u001b[0m             \u001b[0;32mexcept\u001b[0m \u001b[0mException\u001b[0m\u001b[0;34m:\u001b[0m\u001b[0;34m\u001b[0m\u001b[0;34m\u001b[0m\u001b[0m\n",
            "\u001b[0;32m/usr/local/lib/python3.6/dist-packages/jupyter_client/session.py\u001b[0m in \u001b[0;36mrecv\u001b[0;34m(self, socket, mode, content, copy)\u001b[0m\n\u001b[1;32m    802\u001b[0m         \u001b[0;32mtry\u001b[0m\u001b[0;34m:\u001b[0m\u001b[0;34m\u001b[0m\u001b[0;34m\u001b[0m\u001b[0m\n\u001b[0;32m--> 803\u001b[0;31m             \u001b[0mmsg_list\u001b[0m \u001b[0;34m=\u001b[0m \u001b[0msocket\u001b[0m\u001b[0;34m.\u001b[0m\u001b[0mrecv_multipart\u001b[0m\u001b[0;34m(\u001b[0m\u001b[0mmode\u001b[0m\u001b[0;34m,\u001b[0m \u001b[0mcopy\u001b[0m\u001b[0;34m=\u001b[0m\u001b[0mcopy\u001b[0m\u001b[0;34m)\u001b[0m\u001b[0;34m\u001b[0m\u001b[0;34m\u001b[0m\u001b[0m\n\u001b[0m\u001b[1;32m    804\u001b[0m         \u001b[0;32mexcept\u001b[0m \u001b[0mzmq\u001b[0m\u001b[0;34m.\u001b[0m\u001b[0mZMQError\u001b[0m \u001b[0;32mas\u001b[0m \u001b[0me\u001b[0m\u001b[0;34m:\u001b[0m\u001b[0;34m\u001b[0m\u001b[0;34m\u001b[0m\u001b[0m\n",
            "\u001b[0;32m/usr/local/lib/python3.6/dist-packages/zmq/sugar/socket.py\u001b[0m in \u001b[0;36mrecv_multipart\u001b[0;34m(self, flags, copy, track)\u001b[0m\n\u001b[1;32m    465\u001b[0m         \"\"\"\n\u001b[0;32m--> 466\u001b[0;31m         \u001b[0mparts\u001b[0m \u001b[0;34m=\u001b[0m \u001b[0;34m[\u001b[0m\u001b[0mself\u001b[0m\u001b[0;34m.\u001b[0m\u001b[0mrecv\u001b[0m\u001b[0;34m(\u001b[0m\u001b[0mflags\u001b[0m\u001b[0;34m,\u001b[0m \u001b[0mcopy\u001b[0m\u001b[0;34m=\u001b[0m\u001b[0mcopy\u001b[0m\u001b[0;34m,\u001b[0m \u001b[0mtrack\u001b[0m\u001b[0;34m=\u001b[0m\u001b[0mtrack\u001b[0m\u001b[0;34m)\u001b[0m\u001b[0;34m]\u001b[0m\u001b[0;34m\u001b[0m\u001b[0;34m\u001b[0m\u001b[0m\n\u001b[0m\u001b[1;32m    467\u001b[0m         \u001b[0;31m# have first part already, only loop while more to receive\u001b[0m\u001b[0;34m\u001b[0m\u001b[0;34m\u001b[0m\u001b[0;34m\u001b[0m\u001b[0m\n",
            "\u001b[0;32mzmq/backend/cython/socket.pyx\u001b[0m in \u001b[0;36mzmq.backend.cython.socket.Socket.recv\u001b[0;34m()\u001b[0m\n",
            "\u001b[0;32mzmq/backend/cython/socket.pyx\u001b[0m in \u001b[0;36mzmq.backend.cython.socket.Socket.recv\u001b[0;34m()\u001b[0m\n",
            "\u001b[0;32mzmq/backend/cython/socket.pyx\u001b[0m in \u001b[0;36mzmq.backend.cython.socket._recv_copy\u001b[0;34m()\u001b[0m\n",
            "\u001b[0;32m/usr/local/lib/python3.6/dist-packages/zmq/backend/cython/checkrc.pxd\u001b[0m in \u001b[0;36mzmq.backend.cython.checkrc._check_rc\u001b[0;34m()\u001b[0m\n",
            "\u001b[0;31mKeyboardInterrupt\u001b[0m: ",
            "\nDuring handling of the above exception, another exception occurred:\n",
            "\u001b[0;31mKeyboardInterrupt\u001b[0m                         Traceback (most recent call last)",
            "\u001b[0;32m<ipython-input-2-624e1c1d31d9>\u001b[0m in \u001b[0;36m<module>\u001b[0;34m()\u001b[0m\n\u001b[1;32m     61\u001b[0m     \u001b[0mcurrent_player\u001b[0m \u001b[0;34m=\u001b[0m \u001b[0mnext\u001b[0m\u001b[0;34m(\u001b[0m\u001b[0mplayer_choice\u001b[0m\u001b[0;34m)\u001b[0m\u001b[0;34m\u001b[0m\u001b[0;34m\u001b[0m\u001b[0m\n\u001b[1;32m     62\u001b[0m     \u001b[0mprint\u001b[0m\u001b[0;34m(\u001b[0m\u001b[0;34mf\"current player: {current_player}\"\u001b[0m\u001b[0;34m)\u001b[0m\u001b[0;34m\u001b[0m\u001b[0;34m\u001b[0m\u001b[0m\n\u001b[0;32m---> 63\u001b[0;31m     \u001b[0mcolumn_choice\u001b[0m \u001b[0;34m=\u001b[0m \u001b[0mint\u001b[0m\u001b[0;34m(\u001b[0m\u001b[0minput\u001b[0m\u001b[0;34m(\u001b[0m\u001b[0;34m\"what column do you want to play?(0,1,2):\"\u001b[0m\u001b[0;34m)\u001b[0m\u001b[0;34m)\u001b[0m\u001b[0;34m\u001b[0m\u001b[0;34m\u001b[0m\u001b[0m\n\u001b[0m\u001b[1;32m     64\u001b[0m     \u001b[0mrow_choice\u001b[0m \u001b[0;34m=\u001b[0m \u001b[0mint\u001b[0m\u001b[0;34m(\u001b[0m\u001b[0minput\u001b[0m\u001b[0;34m(\u001b[0m\u001b[0;34m\"what row do you want to play?(0,1,2):\"\u001b[0m\u001b[0;34m)\u001b[0m\u001b[0;34m)\u001b[0m\u001b[0;34m\u001b[0m\u001b[0;34m\u001b[0m\u001b[0m\n\u001b[1;32m     65\u001b[0m     \u001b[0mgame\u001b[0m \u001b[0;34m=\u001b[0m \u001b[0mgame_board\u001b[0m\u001b[0;34m(\u001b[0m\u001b[0mgame\u001b[0m\u001b[0;34m,\u001b[0m\u001b[0mcurrent_player\u001b[0m\u001b[0;34m,\u001b[0m\u001b[0mrow_choice\u001b[0m\u001b[0;34m,\u001b[0m\u001b[0mcolumn_choice\u001b[0m\u001b[0;34m)\u001b[0m\u001b[0;34m\u001b[0m\u001b[0;34m\u001b[0m\u001b[0m\n",
            "\u001b[0;32m/usr/local/lib/python3.6/dist-packages/ipykernel/kernelbase.py\u001b[0m in \u001b[0;36mraw_input\u001b[0;34m(self, prompt)\u001b[0m\n\u001b[1;32m    703\u001b[0m             \u001b[0mself\u001b[0m\u001b[0;34m.\u001b[0m\u001b[0m_parent_ident\u001b[0m\u001b[0;34m,\u001b[0m\u001b[0;34m\u001b[0m\u001b[0;34m\u001b[0m\u001b[0m\n\u001b[1;32m    704\u001b[0m             \u001b[0mself\u001b[0m\u001b[0;34m.\u001b[0m\u001b[0m_parent_header\u001b[0m\u001b[0;34m,\u001b[0m\u001b[0;34m\u001b[0m\u001b[0;34m\u001b[0m\u001b[0m\n\u001b[0;32m--> 705\u001b[0;31m             \u001b[0mpassword\u001b[0m\u001b[0;34m=\u001b[0m\u001b[0;32mFalse\u001b[0m\u001b[0;34m,\u001b[0m\u001b[0;34m\u001b[0m\u001b[0;34m\u001b[0m\u001b[0m\n\u001b[0m\u001b[1;32m    706\u001b[0m         )\n\u001b[1;32m    707\u001b[0m \u001b[0;34m\u001b[0m\u001b[0m\n",
            "\u001b[0;32m/usr/local/lib/python3.6/dist-packages/ipykernel/kernelbase.py\u001b[0m in \u001b[0;36m_input_request\u001b[0;34m(self, prompt, ident, parent, password)\u001b[0m\n\u001b[1;32m    733\u001b[0m             \u001b[0;32mexcept\u001b[0m \u001b[0mKeyboardInterrupt\u001b[0m\u001b[0;34m:\u001b[0m\u001b[0;34m\u001b[0m\u001b[0;34m\u001b[0m\u001b[0m\n\u001b[1;32m    734\u001b[0m                 \u001b[0;31m# re-raise KeyboardInterrupt, to truncate traceback\u001b[0m\u001b[0;34m\u001b[0m\u001b[0;34m\u001b[0m\u001b[0;34m\u001b[0m\u001b[0m\n\u001b[0;32m--> 735\u001b[0;31m                 \u001b[0;32mraise\u001b[0m \u001b[0mKeyboardInterrupt\u001b[0m\u001b[0;34m\u001b[0m\u001b[0;34m\u001b[0m\u001b[0m\n\u001b[0m\u001b[1;32m    736\u001b[0m             \u001b[0;32melse\u001b[0m\u001b[0;34m:\u001b[0m\u001b[0;34m\u001b[0m\u001b[0;34m\u001b[0m\u001b[0m\n\u001b[1;32m    737\u001b[0m                 \u001b[0;32mbreak\u001b[0m\u001b[0;34m\u001b[0m\u001b[0;34m\u001b[0m\u001b[0m\n",
            "\u001b[0;31mKeyboardInterrupt\u001b[0m: "
          ]
        }
      ]
    },
    {
      "cell_type": "code",
      "metadata": {
        "id": "tRxnAL-WIxw4",
        "colab_type": "code",
        "colab": {
          "base_uri": "https://localhost:8080/",
          "height": 1005
        },
        "outputId": "dafd779a-b0f7-44aa-d743-6e505f19b411"
      },
      "source": [
        "#secondlast tut\n",
        "# switching between the players\n",
        "import itertools\n",
        "\n",
        "#HORZONTAL\n",
        "def win(current_game):\n",
        "  \n",
        "  def all_same(l):\n",
        "    if l.count(l[0]) == len(l) and l[0] != 0:\n",
        "      return True\n",
        "    else:\n",
        "      return False\n",
        "  \n",
        "  for row in game:\n",
        "    print(row)\n",
        "    if all_same(row):\n",
        "      print(f\"player{row[0]} is the winner horizontally\")\n",
        "      return True\n",
        "        \n",
        "        \n",
        "  #DIAGONAL\n",
        "  diags = []\n",
        "  for col,row in enumerate (reversed(range(len(game)))):\n",
        "    diags.append(game[row][col])\n",
        "  if all_same(diags):\n",
        "    print(f\"player{diags[0]} is the winner diagonally(/)\")\n",
        "    return True\n",
        "    \n",
        "  diags = []\n",
        "  for ix in range(len(game)):\n",
        "    diags.append(game[ix][ix])\n",
        "  if all_same(diags):\n",
        "    print(f\"player{diags[0]} is the winner diagonally(\\\\)\")  \n",
        "    return True\n",
        "    \n",
        "  #VERTICAL  \n",
        "  for col in range(len(game)):\n",
        "    check = []\n",
        "    for row in game:\n",
        "      check.append(row[col])\n",
        "    if all_same(check):\n",
        "      print(f\"player{diags[0]} is the winner vertically (|)\") \n",
        "      return True\n",
        "  return False  \n",
        "      \n",
        "      \n",
        "def game_board(game_map,player=0,row=0,column=0,just_display=False):             #this is a function defination  #gamemap is passe \n",
        "  try:\n",
        "    if game_map[row][column] != 0:\n",
        "      print(\"this position is occupied try another\")\n",
        "      return game_map, False\n",
        "    print(\"   0  1  2\")                                                          #and from here function body begins\n",
        "    if not just_display:\n",
        "      game_map[row][column]=player                                               #modify it temporarily i.e parameter value \n",
        "    for count,row in enumerate(game_map):                                        #row will point to 1st elemenet of list i.e list which is [0,0,0] and count wil represent to elements of list inside list i.e 0\n",
        "      print(count,row) \n",
        "    return game_map, True\n",
        "  except IndexError as e:\n",
        "    print('make sure you input row/column as 0 1 or 2 ',e)\n",
        "    return game_map, False\n",
        "  except Exception as e:\n",
        "    print('something went very wrong!! ',e)\n",
        "    return game_map, False\n",
        "\n",
        "play = True\n",
        "players = [1,2]\n",
        "while play:\n",
        "  game = [[0,0,0],\n",
        "          [0,0,0],\n",
        "          [0,0,0],]\n",
        "  game_won = False\n",
        "  game, _ = game_board(game,just_display= True)#_ means you don't care about what it returns \n",
        "  player_choice = itertools.cycle([1,2])\n",
        "  while not game_won:\n",
        "    current_player = next(player_choice)\n",
        "    print(f\"current player: {current_player}\")\n",
        "    played = False\n",
        "    \n",
        "    while not played:\n",
        "      column_choice = int(input(\"what column do you want to play?(0,1,2):\"))\n",
        "      row_choice = int(input(\"what row do you want to play?(0,1,2):\"))\n",
        "      game, played = game_board(game,current_player,row_choice,column_choice)\n",
        "    \n",
        "    if win(game):\n",
        "      game_won = True\n",
        "      again = input(\"The game is Over, woud you like to play again(y/n)\")\n",
        "      if again.lower() == \"y\":\n",
        "        print(\"restarting\")\n",
        "      elif again.lower() == \"n\":\n",
        "        print(\"Byee\")\n",
        "        play = False\n",
        "      else:\n",
        "        print(\"not a valid answer, so see you later\")\n",
        "        play = False\n",
        "\n",
        "    \n",
        "#player = int(input('enter a number 0 or 1'))  \n",
        "#game = game_board(game,just_display= True)                                       #now functionis called and its value is passed to game variable\n",
        "#game = game_board(game_board,player=1,row=3,column=0)                        \n",
        "\n",
        "      \n",
        "#win(game)  "
      ],
      "execution_count": 4,
      "outputs": [
        {
          "output_type": "stream",
          "text": [
            "   0  1  2\n",
            "0 [0, 0, 0]\n",
            "1 [0, 0, 0]\n",
            "2 [0, 0, 0]\n",
            "current player: 1\n",
            "what column do you want to play?(0,1,2):1\n",
            "what row do you want to play?(0,1,2):1\n",
            "   0  1  2\n",
            "0 [0, 0, 0]\n",
            "1 [0, 1, 0]\n",
            "2 [0, 0, 0]\n",
            "[0, 0, 0]\n",
            "[0, 1, 0]\n",
            "[0, 0, 0]\n",
            "current player: 2\n",
            "what column do you want to play?(0,1,2):1\n",
            "what row do you want to play?(0,1,2):2\n",
            "   0  1  2\n",
            "0 [0, 0, 0]\n",
            "1 [0, 1, 0]\n",
            "2 [0, 2, 0]\n",
            "[0, 0, 0]\n",
            "[0, 1, 0]\n",
            "[0, 2, 0]\n",
            "current player: 1\n",
            "what column do you want to play?(0,1,2):0\n",
            "what row do you want to play?(0,1,2):0\n",
            "   0  1  2\n",
            "0 [1, 0, 0]\n",
            "1 [0, 1, 0]\n",
            "2 [0, 2, 0]\n",
            "[1, 0, 0]\n",
            "[0, 1, 0]\n",
            "[0, 2, 0]\n",
            "current player: 2\n",
            "what column do you want to play?(0,1,2):0\n",
            "what row do you want to play?(0,1,2):2\n",
            "   0  1  2\n",
            "0 [1, 0, 0]\n",
            "1 [0, 1, 0]\n",
            "2 [2, 2, 0]\n",
            "[1, 0, 0]\n",
            "[0, 1, 0]\n",
            "[2, 2, 0]\n",
            "current player: 1\n",
            "what column do you want to play?(0,1,2):2\n",
            "what row do you want to play?(0,1,2):2\n",
            "   0  1  2\n",
            "0 [1, 0, 0]\n",
            "1 [0, 1, 0]\n",
            "2 [2, 2, 1]\n",
            "[1, 0, 0]\n",
            "[0, 1, 0]\n",
            "[2, 2, 1]\n",
            "player1 is the winner diagonally(\\)\n",
            "The game is Over, woud you like to play again(y/n)n\n",
            "Byee\n"
          ],
          "name": "stdout"
        }
      ]
    },
    {
      "cell_type": "code",
      "metadata": {
        "id": "6qQjuD_tJIPU",
        "colab_type": "code",
        "colab": {
          "base_uri": "https://localhost:8080/",
          "height": 52
        },
        "outputId": "9bce8276-6aa1-468c-cd8a-5ba6ac08d62a"
      },
      "source": [
        "#method 1\n",
        "#list comprehension\n",
        "game_size = 3\n",
        "\n",
        "print(\"   0  1  2\")\n",
        "s = \"   \"+\"  \".join([str(i) for i in range(game_size)])\n",
        "print(s)"
      ],
      "execution_count": 5,
      "outputs": [
        {
          "output_type": "stream",
          "text": [
            "   0  1  2\n",
            "   0  1  2\n"
          ],
          "name": "stdout"
        }
      ]
    },
    {
      "cell_type": "code",
      "metadata": {
        "id": "r0E0d4FLJOJM",
        "colab_type": "code",
        "colab": {
          "base_uri": "https://localhost:8080/",
          "height": 52
        },
        "outputId": "2a9e7824-9802-4060-a229-e5e5d51f5f3c"
      },
      "source": [
        "#Method 2\n",
        "game_size = 3\n",
        "\n",
        "print(\"   0  1  2\")\n",
        "s = \" \"\n",
        "for i in range(game_size):\n",
        "  s += \"  \"+str(i)\n",
        "print(s)  "
      ],
      "execution_count": 6,
      "outputs": [
        {
          "output_type": "stream",
          "text": [
            "   0  1  2\n",
            "   0  1  2\n"
          ],
          "name": "stdout"
        }
      ]
    },
    {
      "cell_type": "code",
      "metadata": {
        "id": "VXLajQxVJQ_Q",
        "colab_type": "code",
        "colab": {
          "base_uri": "https://localhost:8080/",
          "height": 35
        },
        "outputId": "b4a9b238-0c03-4222-cacd-9879571e0f23"
      },
      "source": [
        "\n",
        "# Python program to demonstrate the \n",
        "# use of join function to join list \n",
        "# elements with a character. \n",
        "  \n",
        "list1 = ['1','2','3','4']  \n",
        "  \n",
        "s = \"-\"\n",
        "  \n",
        "# joins elements of list1 by '-' \n",
        "# and stores in sting s \n",
        "s = s.join(list1) \n",
        "  \n",
        "# join use to join a list of \n",
        "# strings to a separator s \n",
        "print(s) \n"
      ],
      "execution_count": 7,
      "outputs": [
        {
          "output_type": "stream",
          "text": [
            "1-2-3-4\n"
          ],
          "name": "stdout"
        }
      ]
    }
  ]
}