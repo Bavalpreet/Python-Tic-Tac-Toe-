{
  "nbformat": 4,
  "nbformat_minor": 0,
  "metadata": {
    "colab": {
      "name": "Tut4.ipynb",
      "version": "0.3.2",
      "provenance": []
    },
    "kernelspec": {
      "name": "python3",
      "display_name": "Python 3"
    }
  },
  "cells": [
    {
      "cell_type": "code",
      "metadata": {
        "id": "qr9CoUL-GQsk",
        "colab_type": "code",
        "colab": {
          "base_uri": "https://localhost:8080/",
          "height": 35
        },
        "outputId": "7d693138-3236-45f7-df30-f9f556a01bff"
      },
      "source": [
        "#VERTICAL WINNER PART1\n",
        "game = [[1,2,1],\n",
        "        [1,0,2],\n",
        "        [1,2,0],]\n",
        "columns = [0,1,2]\n",
        "for col in columns:\n",
        "  check = []\n",
        "  for row in game:\n",
        "    check.append(row[col])\n",
        "  if check.count(check[0]) == len(check) and check[0] != 0:\n",
        "    print(\"winner\")\n",
        "        \n",
        "\n",
        " "
      ],
      "execution_count": 1,
      "outputs": [
        {
          "output_type": "stream",
          "text": [
            "winner\n"
          ],
          "name": "stdout"
        }
      ]
    },
    {
      "cell_type": "code",
      "metadata": {
        "id": "lss1rFznGkF1",
        "colab_type": "code",
        "colab": {
          "base_uri": "https://localhost:8080/",
          "height": 69
        },
        "outputId": "170c4e78-92cd-42da-f7eb-f7fc753419d3"
      },
      "source": [
        "x = range(3)\n",
        "for i in x:\n",
        "  print(i)"
      ],
      "execution_count": 2,
      "outputs": [
        {
          "output_type": "stream",
          "text": [
            "0\n",
            "1\n",
            "2\n"
          ],
          "name": "stdout"
        }
      ]
    },
    {
      "cell_type": "code",
      "metadata": {
        "id": "_IB47IQNGmPp",
        "colab_type": "code",
        "colab": {
          "base_uri": "https://localhost:8080/",
          "height": 35
        },
        "outputId": "d2e995a6-f6a9-49f2-b407-f8f1f183877b"
      },
      "source": [
        "#vertical winner\n",
        "game = [[1,2,1],\n",
        "        [1,0,2],\n",
        "        [1,2,0],]\n",
        "\n",
        "for col in range(len(game)):\n",
        "  check = []\n",
        "  for row in game:\n",
        "    check.append(row[col])\n",
        "  if check.count(check[0]) == len(check) and check[0] != 0:\n",
        "    print(\"winner\")\n",
        "        \n",
        "\n",
        " "
      ],
      "execution_count": 3,
      "outputs": [
        {
          "output_type": "stream",
          "text": [
            "winner\n"
          ],
          "name": "stdout"
        }
      ]
    },
    {
      "cell_type": "code",
      "metadata": {
        "id": "yk8PyLBBGqHv",
        "colab_type": "code",
        "colab": {}
      },
      "source": [
        ""
      ],
      "execution_count": 0,
      "outputs": []
    }
  ]
}