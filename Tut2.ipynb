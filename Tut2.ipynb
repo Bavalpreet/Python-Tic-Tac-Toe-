{
  "nbformat": 4,
  "nbformat_minor": 0,
  "metadata": {
    "colab": {
      "name": "Tut2.ipynb",
      "version": "0.3.2",
      "provenance": []
    },
    "kernelspec": {
      "name": "python3",
      "display_name": "Python 3"
    }
  },
  "cells": [
    {
      "cell_type": "code",
      "metadata": {
        "id": "CZ8n_s9UOUXx",
        "colab_type": "code",
        "colab": {
          "base_uri": "https://localhost:8080/",
          "height": 87
        },
        "outputId": "344bcf64-43ad-48de-b7ee-92eea778124f"
      },
      "source": [
        "game = [[0,0,0],\n",
        "        [0,0,0],\n",
        "        [0,0,0],]\n",
        "print(\"   0  1  2\") \n",
        "for count,row in enumerate(game): #row will point to 1st elemenet of list i.e list which is [0,0,0] and count will represent to elements of list inside list i.e 0\n",
        "  print(count,row)\n",
        "  \n",
        "  \n",
        "     "
      ],
      "execution_count": 2,
      "outputs": [
        {
          "output_type": "stream",
          "text": [
            "   0  1  2\n",
            "0 [0, 0, 0]\n",
            "1 [0, 0, 0]\n",
            "2 [0, 0, 0]\n"
          ],
          "name": "stdout"
        }
      ]
    },
    {
      "cell_type": "markdown",
      "metadata": {
        "id": "8xEe3CWFPD_y",
        "colab_type": "text"
      },
      "source": [
        "Enumerate returns both the value and the index value"
      ]
    },
    {
      "cell_type": "code",
      "metadata": {
        "id": "fqi3XZfzOv3p",
        "colab_type": "code",
        "colab": {
          "base_uri": "https://localhost:8080/",
          "height": 243
        },
        "outputId": "7bcc563a-e96e-4b2b-b96d-455141badaf5"
      },
      "source": [
        "game = [[0,0,0],\n",
        "        [0,0,0],\n",
        "        [0,0,0],]\n",
        "print(\"   0  1  2\") \n",
        "for count,row in enumerate(game): \n",
        "  print(count,row)\n",
        "  for item in row:\n",
        "    print(item)       # so item representing elements in each row ie[0,0,0] and game consists of three rows"
      ],
      "execution_count": 3,
      "outputs": [
        {
          "output_type": "stream",
          "text": [
            "   0  1  2\n",
            "0 [0, 0, 0]\n",
            "0\n",
            "0\n",
            "0\n",
            "1 [0, 0, 0]\n",
            "0\n",
            "0\n",
            "0\n",
            "2 [0, 0, 0]\n",
            "0\n",
            "0\n",
            "0\n"
          ],
          "name": "stdout"
        }
      ]
    },
    {
      "cell_type": "code",
      "metadata": {
        "id": "ROgLIQRIQirH",
        "colab_type": "code",
        "colab": {
          "base_uri": "https://localhost:8080/",
          "height": 87
        },
        "outputId": "51b883a6-3b9e-40cb-f200-3fd21b03d269"
      },
      "source": [
        "game = [[0,0,0],\n",
        "        [0,0,0],\n",
        "        [0,0,0],]\n",
        "game[0][1] = 1\n",
        "print(\"   0  1  2\") \n",
        "for count,row in enumerate(game): \n",
        "  print(count,row)"
      ],
      "execution_count": 4,
      "outputs": [
        {
          "output_type": "stream",
          "text": [
            "   0  1  2\n",
            "0 [0, 1, 0]\n",
            "1 [0, 0, 0]\n",
            "2 [0, 0, 0]\n"
          ],
          "name": "stdout"
        }
      ]
    },
    {
      "cell_type": "markdown",
      "metadata": {
        "id": "B-WmaMiMQpQC",
        "colab_type": "text"
      },
      "source": [
        "so if we want to change value at any point in game we will do it like this game[0][1] = 1 at [0][1]position value is updated to 1."
      ]
    },
    {
      "cell_type": "code",
      "metadata": {
        "id": "Gdq_vMGIQH1-",
        "colab_type": "code",
        "colab": {
          "base_uri": "https://localhost:8080/",
          "height": 156
        },
        "outputId": "79741d02-4a84-47e3-c344-82a88839569d"
      },
      "source": [
        "game = [[0,0,0],\n",
        "        [0,0,0],\n",
        "        [0,0,0],]# this is a list containing three elements in form of list\n",
        " \n",
        "def game_board(player=0,row=0,column=0,just_display=False):  #this is a function defination\n",
        "  print(\"   0  1  2\")                                        #and from here function body begins\n",
        "  if not just_display:\n",
        "    game[row][column]=player\n",
        "  for count,row in enumerate(game):                          #row will point to 1st elemenet of list i.e list which is [0,0,0] and count will represent to elements of list inside list i.e 0\n",
        "    print(count,row) \n",
        "#player = int(input('enter a number 0 or 1'))  \n",
        "game_board(just_display= True)                               #function call with one para meter it is used to display the initial game board\n",
        "game_board(player=1,row=1,column=0)                          #again function call but this time with three parameters\n"
      ],
      "execution_count": 5,
      "outputs": [
        {
          "output_type": "stream",
          "text": [
            "   0  1  2\n",
            "0 [0, 0, 0]\n",
            "1 [0, 0, 0]\n",
            "2 [0, 0, 0]\n",
            "   0  1  2\n",
            "0 [0, 0, 0]\n",
            "1 [1, 0, 0]\n",
            "2 [0, 0, 0]\n"
          ],
          "name": "stdout"
        }
      ]
    },
    {
      "cell_type": "markdown",
      "metadata": {
        "id": "r4z01KtmRLn-",
        "colab_type": "text"
      },
      "source": [
        "Now care fully see one thing the meaning of this line of code \n",
        "game[row][column]=player\n",
        "is that will player 1 is playing at any position in game value updated will be 1 and if player 2 is playing value updated will be 2 at specified position by user."
      ]
    }
  ]
}