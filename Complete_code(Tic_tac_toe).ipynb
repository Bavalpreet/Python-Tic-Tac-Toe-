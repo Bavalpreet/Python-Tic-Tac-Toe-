{
  "nbformat": 4,
  "nbformat_minor": 0,
  "metadata": {
    "colab": {
      "name": "Complete code(Tic-tac-toe).ipynb",
      "version": "0.3.2",
      "provenance": [],
      "collapsed_sections": []
    },
    "kernelspec": {
      "name": "python3",
      "display_name": "Python 3"
    }
  },
  "cells": [
    {
      "cell_type": "code",
      "metadata": {
        "id": "EdwOw1sj9WpV",
        "colab_type": "code",
        "outputId": "6dbff87b-19b2-4d00-8b6f-e817dc311b6a",
        "colab": {
          "base_uri": "https://localhost:8080/",
          "height": 153
        }
      },
      "source": [
        "game = [[0,0,0],\n",
        "        [0,0,0],\n",
        "        [0,0,0],]# this is a list containing three elements in form of list\n",
        " \n",
        "def game_board(player=0,row=0,column=0,just_display=False):  #this is a function defination\n",
        "  print(\"   0  1  2\")                                        #and from here function body begins\n",
        "  if not just_display:\n",
        "    game[row][column]=player\n",
        "  for count,row in enumerate(game):                          #row will point to 1st elemenet of list i.e list which is [0,0,0] and count will represent to elements of list inside list i.e 0\n",
        "    print(count,row) \n",
        "#player = int(input('enter a number 0 or 1'))  \n",
        "game_board(just_display= True)                               #function call with one para meter it is used to display the initial game board\n",
        "game_board(player=1,row=1,column=0)                          #again function call but this time with three parameters\n",
        "\n",
        "   "
      ],
      "execution_count": 0,
      "outputs": [
        {
          "output_type": "stream",
          "text": [
            "   0  1  2\n",
            "0 [0, 0, 0]\n",
            "1 [0, 0, 0]\n",
            "2 [0, 0, 0]\n",
            "   0  1  2\n",
            "0 [0, 0, 0]\n",
            "1 [1, 0, 0]\n",
            "2 [0, 0, 0]\n"
          ],
          "name": "stdout"
        }
      ]
    },
    {
      "cell_type": "markdown",
      "metadata": {
        "id": "zPAYck4INCQ5",
        "colab_type": "text"
      },
      "source": [
        "Enumerate returns both the value and the index value"
      ]
    },
    {
      "cell_type": "code",
      "metadata": {
        "id": "OqWtJuCEfdHt",
        "colab_type": "code",
        "outputId": "fb4ed16c-2a03-4271-dcea-3af221200219",
        "colab": {
          "base_uri": "https://localhost:8080/",
          "height": 153
        }
      },
      "source": [
        "game = [[0,0,0],\n",
        "        [0,0,0],\n",
        "        [0,0,0],]# this is a list containing three elements in form of list\n",
        " \n",
        "def game_board(game_map,player=0,row=0,column=0,just_display=False):  #this is a function defination  #gamemap is passed\n",
        "  print(\"   0  1  2\")                                        #and from here function body begins\n",
        "  if not just_display:\n",
        "    game_map[row][column]=player                             #modify it temporarily i.e parameter value \n",
        "  for count,row in enumerate(game_map):                          #row will point to 1st elemenet of list i.e list which is [0,0,0] and count wil represent to elements of list inside list i.e 0\n",
        "    print(count,row) \n",
        "  return game_map  \n",
        "#player = int(input('enter a number 0 or 1'))  \n",
        "game = game_board(game,just_display= True)                               #now functionis called and its value is passed to game variable\n",
        "game = game_board(game,player=1,row=1,column=0)                          #\n",
        "\n",
        "   "
      ],
      "execution_count": 0,
      "outputs": [
        {
          "output_type": "stream",
          "text": [
            "   0  1  2\n",
            "0 [0, 0, 0]\n",
            "1 [0, 0, 0]\n",
            "2 [0, 0, 0]\n",
            "   0  1  2\n",
            "0 [0, 0, 0]\n",
            "1 [1, 0, 0]\n",
            "2 [0, 0, 0]\n"
          ],
          "name": "stdout"
        }
      ]
    },
    {
      "cell_type": "markdown",
      "metadata": {
        "id": "kh-SH_eDfyy2",
        "colab_type": "text"
      },
      "source": [
        "so the idea here is you pass the gamemap or whatever object you are attempting to manipulate with your function and than return it."
      ]
    },
    {
      "cell_type": "code",
      "metadata": {
        "id": "p5M80dn_vwZc",
        "colab_type": "code",
        "outputId": "c1191a8b-33aa-4d45-acf7-50e742c3920b",
        "colab": {
          "base_uri": "https://localhost:8080/",
          "height": 118
        }
      },
      "source": [
        "game = [[0,0,0],\n",
        "        [0,0,0],\n",
        "        [0,0,0],]                                                                # this is a list containing three elements in form of list\n",
        " \n",
        "def game_board(game_map,player=0,row=0,column=0,just_display=False):             #this is a function defination  #gamemap is passed\n",
        "  try:\n",
        "    print(\"   0  1  2\")                                                          #and from here function body begins\n",
        "    if not just_display:\n",
        "      game_map[row][column]=player                                               #modify it temporarily i.e parameter value \n",
        "    for count,row in enumerate(game_map):                                        #row will point to 1st elemenet of list i.e list which is [0,0,0] and count wil represent to elements of list inside list i.e 0\n",
        "      print(count,row) \n",
        "    return game_map\n",
        "  except IndexError as e:\n",
        "    print('make sure you input row/column as 0 1 or 2 ',e)\n",
        "  except Exception as e:\n",
        "    print('something went very wrong!! ',e)\n",
        "    \n",
        "#player = int(input('enter a number 0 or 1'))  \n",
        "game = game_board(game,just_display= True)                                       #now functionis called and its value is passed to game variable\n",
        "game = game_board(game_board,player=1,row=3,column=0)                        \n",
        "\n",
        "   "
      ],
      "execution_count": 0,
      "outputs": [
        {
          "output_type": "stream",
          "text": [
            "   0  1  2\n",
            "0 [0, 0, 0]\n",
            "1 [0, 0, 0]\n",
            "2 [0, 0, 0]\n",
            "   0  1  2\n",
            "something went very wrong!!  'function' object is not subscriptable\n"
          ],
          "name": "stdout"
        }
      ]
    },
    {
      "cell_type": "code",
      "metadata": {
        "id": "oYYoGmZEYeHd",
        "colab_type": "code",
        "outputId": "d6638b60-b629-440e-cd4b-0342bd8be738",
        "colab": {
          "base_uri": "https://localhost:8080/",
          "height": 85
        }
      },
      "source": [
        "game = [[1,1,1],\n",
        "        [0,0,2],\n",
        "        [0,2,0],]\n",
        "\n",
        "def win(current_game):\n",
        "  \n",
        "  for row in game:\n",
        "    print(row)\n",
        "    all_match = True\n",
        "    for item in row:\n",
        "      #print(item,row[0])\n",
        "      if item != row[0]:\n",
        "        all_match = False\n",
        "    if all_match:\n",
        "          print(\"winner\")\n",
        "        \n",
        "\n",
        "win(game)      "
      ],
      "execution_count": 0,
      "outputs": [
        {
          "output_type": "stream",
          "text": [
            "[1, 1, 1]\n",
            "winner\n",
            "[0, 0, 2]\n",
            "[0, 2, 0]\n"
          ],
          "name": "stdout"
        }
      ]
    },
    {
      "cell_type": "code",
      "metadata": {
        "id": "a6cQ0fTa7Ey7",
        "colab_type": "code",
        "outputId": "80e500be-4b1e-451d-c86d-1caec953a039",
        "colab": {
          "base_uri": "https://localhost:8080/",
          "height": 85
        }
      },
      "source": [
        "#HORIZONTAL WINNER\n",
        "game = [[1,1,1],\n",
        "        [0,0,2],\n",
        "        [0,2,0],]\n",
        "\n",
        "def win(current_game):\n",
        "  for row in game:\n",
        "    print(row)\n",
        "    #print(row[0])\n",
        "    #print(row.count(1))\n",
        "    if row.count(row[0]) == len(row) and row[0] != 0:\n",
        "          print(\"winner\")\n",
        "        \n",
        "\n",
        "win(game)  "
      ],
      "execution_count": 0,
      "outputs": [
        {
          "output_type": "stream",
          "text": [
            "[1, 1, 1]\n",
            "winner\n",
            "[0, 0, 2]\n",
            "[0, 2, 0]\n"
          ],
          "name": "stdout"
        }
      ]
    },
    {
      "cell_type": "code",
      "metadata": {
        "id": "bl_qQJGhDXpa",
        "colab_type": "code",
        "outputId": "650d3e41-d37d-4f46-cdf2-dd3d81ebb494",
        "colab": {
          "base_uri": "https://localhost:8080/",
          "height": 34
        }
      },
      "source": [
        "#VERTICAL WINNER PART1\n",
        "game = [[1,2,1],\n",
        "        [1,0,2],\n",
        "        [1,2,0],]\n",
        "columns = [0,1,2]\n",
        "for col in columns:\n",
        "  check = []\n",
        "  for row in game:\n",
        "    check.append(row[col])\n",
        "  if check.count(check[0]) == len(check) and check[0] != 0:\n",
        "    print(\"winner\")\n",
        "        \n",
        "\n",
        " "
      ],
      "execution_count": 0,
      "outputs": [
        {
          "output_type": "stream",
          "text": [
            "winner\n"
          ],
          "name": "stdout"
        }
      ]
    },
    {
      "cell_type": "code",
      "metadata": {
        "id": "Kj6jlNB_KSz7",
        "colab_type": "code",
        "outputId": "08ed7158-e5a0-4709-b836-2309508c54c6",
        "colab": {
          "base_uri": "https://localhost:8080/",
          "height": 68
        }
      },
      "source": [
        "x = range(3)\n",
        "for i in x:\n",
        "  print(i)"
      ],
      "execution_count": 0,
      "outputs": [
        {
          "output_type": "stream",
          "text": [
            "0\n",
            "1\n",
            "2\n"
          ],
          "name": "stdout"
        }
      ]
    },
    {
      "cell_type": "code",
      "metadata": {
        "id": "I3fxM08gKedS",
        "colab_type": "code",
        "outputId": "0aa71429-3ca5-4d16-b080-86aed81b2274",
        "colab": {
          "base_uri": "https://localhost:8080/",
          "height": 34
        }
      },
      "source": [
        "#vertical winner\n",
        "game = [[1,2,1],\n",
        "        [1,0,2],\n",
        "        [1,2,0],]\n",
        "\n",
        "for col in range(len(game)):\n",
        "  check = []\n",
        "  for row in game:\n",
        "    check.append(row[col])\n",
        "  if check.count(check[0]) == len(check) and check[0] != 0:\n",
        "    print(\"winner\")\n",
        "        \n",
        "\n",
        " "
      ],
      "execution_count": 0,
      "outputs": [
        {
          "output_type": "stream",
          "text": [
            "winner\n"
          ],
          "name": "stdout"
        }
      ]
    },
    {
      "cell_type": "code",
      "metadata": {
        "id": "I4kUJkwtL1Qx",
        "colab_type": "code",
        "outputId": "931d13e3-2239-4dd7-d064-b86c53b2a7b7",
        "colab": {
          "base_uri": "https://localhost:8080/",
          "height": 34
        }
      },
      "source": [
        "#diagonal winner\n",
        "game = [[1,2,1],\n",
        "        [1,1,2],\n",
        "        [1,2,0],]\n",
        "\n",
        "if game[0][0] == game[1][1] == game[2][2]:\n",
        "  print(\"winner\")\n",
        "  \n",
        "if game[2][0] == game[1][1] == game[0][2]:\n",
        "  print(\"winner\")  "
      ],
      "execution_count": 0,
      "outputs": [
        {
          "output_type": "stream",
          "text": [
            "winner\n"
          ],
          "name": "stdout"
        }
      ]
    },
    {
      "cell_type": "code",
      "metadata": {
        "id": "_tmzETQ6NG3C",
        "colab_type": "code",
        "outputId": "a867bef2-844f-410b-de5e-70735c69621a",
        "colab": {
          "base_uri": "https://localhost:8080/",
          "height": 51
        }
      },
      "source": [
        "#diagonal winner 2\n",
        "#this code for first diagonal\n",
        "game = [[3,2,1],\n",
        "        [1,3,2],\n",
        "        [1,2,3],]\n",
        "\n",
        "diags = []\n",
        "for ix in range(len(game)):\n",
        "  diags.append(game[ix][ix])\n",
        "print(diags)\n",
        "if diags.count(diags[0]) == len(diags) and diags[0] != 0:\n",
        "    print(\"winner\")\n",
        "    \n",
        "  "
      ],
      "execution_count": 0,
      "outputs": [
        {
          "output_type": "stream",
          "text": [
            "[3, 3, 3]\n",
            "winner\n"
          ],
          "name": "stdout"
        }
      ]
    },
    {
      "cell_type": "code",
      "metadata": {
        "id": "XPCc9HTgN6pK",
        "colab_type": "code",
        "outputId": "472d3b35-4e1a-4c98-8ddc-24e2c9aeca01",
        "colab": {
          "base_uri": "https://localhost:8080/",
          "height": 68
        }
      },
      "source": [
        "#diagonal part 3\n",
        "game = [[1,2,1],\n",
        "        [1,1,2],\n",
        "        [1,2,1],]\n",
        "cols = list(reversed(range(len(game))))\n",
        "rows = range(len(game))\n",
        "\n",
        "for idx in rows:\n",
        "  print(idx,cols[idx])"
      ],
      "execution_count": 0,
      "outputs": [
        {
          "output_type": "stream",
          "text": [
            "0 2\n",
            "1 1\n",
            "2 0\n"
          ],
          "name": "stdout"
        }
      ]
    },
    {
      "cell_type": "code",
      "metadata": {
        "id": "cVYXy13uZDu2",
        "colab_type": "code",
        "outputId": "0af74be9-4ae1-426d-cf63-7814b82fac43",
        "colab": {
          "base_uri": "https://localhost:8080/",
          "height": 68
        }
      },
      "source": [
        "x = [2,3,4]\n",
        "y = [1,2,3]\n",
        "zip(x,y)\n",
        "for i in zip(x,y):\n",
        "  print(i)"
      ],
      "execution_count": 0,
      "outputs": [
        {
          "output_type": "stream",
          "text": [
            "(2, 1)\n",
            "(3, 2)\n",
            "(4, 3)\n"
          ],
          "name": "stdout"
        }
      ]
    },
    {
      "cell_type": "code",
      "metadata": {
        "id": "7GCnRkBfZivt",
        "colab_type": "code",
        "outputId": "4e309d39-0c0f-4800-957d-5ee83669a2b2",
        "colab": {
          "base_uri": "https://localhost:8080/",
          "height": 119
        }
      },
      "source": [
        "#part3\n",
        "game = [[1,2,1],\n",
        "        [1,1,2],\n",
        "        [1,2,1],]\n",
        "cols = reversed(range(len(game)))\n",
        "rows = range(len(game))\n",
        "\n",
        "for col,row in zip(cols,rows):\n",
        "  print(col,row)\n",
        "  \n",
        "  \n",
        "  #or we can do it like this also it wil also give the same result\n",
        "game = [[1,2,1],\n",
        "        [1,1,2],\n",
        "        [1,2,1],]\n",
        "\n",
        "for col,row in zip(reversed(range(len(game))),range(len(game))):\n",
        "  print(col,row)  "
      ],
      "execution_count": 0,
      "outputs": [
        {
          "output_type": "stream",
          "text": [
            "2 0\n",
            "1 1\n",
            "0 2\n",
            "2 0\n",
            "1 1\n",
            "0 2\n"
          ],
          "name": "stdout"
        }
      ]
    },
    {
      "cell_type": "code",
      "metadata": {
        "id": "6A1DTqf6bfD0",
        "colab_type": "code",
        "outputId": "b1a4e646-6bb6-4174-c2c9-3c54266bca25",
        "colab": {
          "base_uri": "https://localhost:8080/",
          "height": 68
        }
      },
      "source": [
        "  #or we can do it like this also it wil also give the same result\n",
        "game = [[1,2,1],\n",
        "        [1,1,2],\n",
        "        [1,2,1],]\n",
        "\n",
        "for col,row in enumerate (reversed(range(len(game)))):\n",
        "  print(col,row)  "
      ],
      "execution_count": 0,
      "outputs": [
        {
          "output_type": "stream",
          "text": [
            "0 2\n",
            "1 1\n",
            "2 0\n"
          ],
          "name": "stdout"
        }
      ]
    },
    {
      "cell_type": "markdown",
      "metadata": {
        "id": "Gn5600jOcOtA",
        "colab_type": "text"
      },
      "source": [
        " Enumerate() method adds a counter to an iterable and returns it in a form of enumerate object\n",
        " "
      ]
    },
    {
      "cell_type": "code",
      "metadata": {
        "id": "kKBOs8F2c3uM",
        "colab_type": "code",
        "outputId": "a092a1b6-7914-49ab-e2e5-e488765c8596",
        "colab": {
          "base_uri": "https://localhost:8080/",
          "height": 34
        }
      },
      "source": [
        "#this is code for 2nd diagonal\n",
        "game = [[1,2,2],\n",
        "        [1,1,2],\n",
        "        [1,2,1],]\n",
        "diags = []\n",
        "for col,row in enumerate (reversed(range(len(game)))):\n",
        "  diags.append(game[row][col])\n",
        "print(diags)  "
      ],
      "execution_count": 0,
      "outputs": [
        {
          "output_type": "stream",
          "text": [
            "[1, 1, 2]\n"
          ],
          "name": "stdout"
        }
      ]
    },
    {
      "cell_type": "code",
      "metadata": {
        "id": "4XJeX1QXdu95",
        "colab_type": "code",
        "colab": {}
      },
      "source": [
        "#now i am gonna combine code for first diagonal and 2nd diagonal\n",
        "game = [[1,2,2],\n",
        "        [1,1,2],\n",
        "        [1,2,1],]\n",
        "diags = []\n",
        "for col,row in enumerate (reversed(range(len(game)))):\n",
        "  diags.append(game[row][col])\n",
        "diags = []\n",
        "for ix in range(len(game)):\n",
        "  diags.append(game[ix][ix])  "
      ],
      "execution_count": 0,
      "outputs": []
    },
    {
      "cell_type": "code",
      "metadata": {
        "id": "Ghy8al_Wg8BZ",
        "colab_type": "code",
        "outputId": "743b4fdb-4897-4277-d3cc-0fe574b1d5aa",
        "colab": {
          "base_uri": "https://localhost:8080/",
          "height": 101
        }
      },
      "source": [
        "# putting all the things together\n",
        "game = [[1,2,2],\n",
        "        [1,1,2],\n",
        "        [1,2,1],]\n",
        "#HORZONTAL\n",
        "def win(current_game):\n",
        "  for row in game:\n",
        "    print(row)\n",
        "    if row.count(row[0]) == len(row) and row[0] != 0:\n",
        "          print(f\"player{row[0]} is the winner horizontally\")\n",
        "        \n",
        "        \n",
        "  #DIAGONAL\n",
        "  diags = []\n",
        "  for col,row in enumerate (reversed(range(len(game)))):\n",
        "    diags.append(game[row][col])\n",
        "  if diags.count(diags[0]) == len(diags) and diags[0] != 0:\n",
        "    print(f\"player{diags[0]} is the winner diagonally(/)\") \n",
        "    \n",
        "  diags = []\n",
        "  for ix in range(len(game)):\n",
        "    diags.append(game[ix][ix])\n",
        "  if diags.count(diags[0]) == len(diags) and diags[0] != 0:\n",
        "    print(f\"player{diags[0]} is the winner diagonally(\\\\)\")  \n",
        "    \n",
        "    \n",
        "  #VERTICAL  \n",
        "  for col in range(len(game)):\n",
        "    check = []\n",
        "    for row in game:\n",
        "      check.append(row[col])\n",
        "    if check.count(check[0]) == len(check) and check[0] != 0:\n",
        "      print(f\"player{diags[0]} is the winner vertically (|)\") \n",
        "      \n",
        "      \n",
        "      \n",
        "      \n",
        "win(game)      "
      ],
      "execution_count": 0,
      "outputs": [
        {
          "output_type": "stream",
          "text": [
            "[1, 2, 2]\n",
            "[1, 1, 2]\n",
            "[1, 2, 1]\n",
            "player1 is the winner diagonally(\\)\n",
            "player1 is the winner vertically (|)\n"
          ],
          "name": "stdout"
        }
      ]
    },
    {
      "cell_type": "markdown",
      "metadata": {
        "id": "tPsQb8gdl37T",
        "colab_type": "text"
      },
      "source": [
        "The idea behind f-strings is to make string interpolation simpler. ... The string itself can be formatted in much the same way that you would with str.format(). F-strings provide a concise and convenient way to embed python expressions inside string literals for formatting"
      ]
    },
    {
      "cell_type": "code",
      "metadata": {
        "id": "_ZhX2fYTQXf-",
        "colab_type": "code",
        "outputId": "ff52a813-1535-4628-da6f-ccf537ee0349",
        "colab": {
          "base_uri": "https://localhost:8080/",
          "height": 911
        }
      },
      "source": [
        "# putting all the things together\n",
        "game = [[1,2,2],\n",
        "        [1,1,2],\n",
        "        [1,2,1],]\n",
        "#HORZONTAL\n",
        "def win(current_game):\n",
        "  for row in game:\n",
        "    print(row)\n",
        "    if row.count(row[0]) == len(row) and row[0] != 0:\n",
        "          print(f\"player{row[0]} is the winner horizontally\")\n",
        "        \n",
        "        \n",
        "  #DIAGONAL\n",
        "  diags = []\n",
        "  for col,row in enumerate (reversed(range(len(game)))):\n",
        "    diags.append(game[row][col])\n",
        "  if diags.count(diags[0]) == len(diags) and diags[0] != 0:\n",
        "    print(f\"player{diags[0]} is the winner diagonally(/)\") \n",
        "    \n",
        "  diags = []\n",
        "  for ix in range(len(game)):\n",
        "    diags.append(game[ix][ix])\n",
        "  if diags.count(diags[0]) == len(diags) and diags[0] != 0:\n",
        "    print(f\"player{diags[0]} is the winner diagonally(\\\\)\")  \n",
        "    \n",
        "    \n",
        "  #VERTICAL  \n",
        "  for col in range(len(game)):\n",
        "    check = []\n",
        "    for row in game:\n",
        "      check.append(row[col])\n",
        "    if check.count(check[0]) == len(check) and check[0] != 0:\n",
        "      print(f\"player{diags[0]} is the winner vertically (|)\") \n",
        "      \n",
        "      \n",
        "      \n",
        "def game_board(game_map,player=0,row=0,column=0,just_display=False):             #this is a function defination  #gamemap is passed\n",
        "  try:\n",
        "    print(\"   0  1  2\")                                                          #and from here function body begins\n",
        "    if not just_display:\n",
        "      game_map[row][column]=player                                               #modify it temporarily i.e parameter value \n",
        "    for count,row in enumerate(game_map):                                        #row will point to 1st elemenet of list i.e list which is [0,0,0] and count wil represent to elements of list inside list i.e 0\n",
        "      print(count,row) \n",
        "    return game_map\n",
        "  except IndexError as e:\n",
        "    print('make sure you input row/column as 0 1 or 2 ',e)\n",
        "  except Exception as e:\n",
        "    print('something went very wrong!! ',e)\n",
        "\n",
        "play = True\n",
        "players = [1,2]\n",
        "while play:\n",
        "  game = [[0,0,0],\n",
        "          [0,0,0],\n",
        "          [0,0,0],]\n",
        "  game_won = False\n",
        "  game = game_board(game,just_display= True)  \n",
        "  while not game_won:\n",
        "    current_player = 1\n",
        "    column_choice = int(input(\"what column do you want to play?(0,1,2):\"))\n",
        "    row_choice = int(input(\"what row do you want to play?(0,1,2):\"))\n",
        "    game = game_board(game,current_player,row_choice,column_choice)                        \n",
        "\n",
        "    \n",
        "#player = int(input('enter a number 0 or 1'))  \n",
        "#game = game_board(game,just_display= True)                                       #now functionis called and its value is passed to game variable\n",
        "#game = game_board(game_board,player=1,row=3,column=0)                        \n",
        "\n",
        "      \n",
        "#win(game)      "
      ],
      "execution_count": 0,
      "outputs": [
        {
          "output_type": "stream",
          "text": [
            "   0  1  2\n",
            "0 [0, 0, 0]\n",
            "1 [0, 0, 0]\n",
            "2 [0, 0, 0]\n",
            "what column do you want to play?(0,1,2):0\n",
            "what row do you want to play?(0,1,2):0\n",
            "   0  1  2\n",
            "0 [1, 0, 0]\n",
            "1 [0, 0, 0]\n",
            "2 [0, 0, 0]\n",
            "what column do you want to play?(0,1,2):1\n",
            "what row do you want to play?(0,1,2):1\n",
            "   0  1  2\n",
            "0 [1, 0, 0]\n",
            "1 [0, 1, 0]\n",
            "2 [0, 0, 0]\n",
            "what column do you want to play?(0,1,2):2\n",
            "what row do you want to play?(0,1,2):2\n",
            "   0  1  2\n",
            "0 [1, 0, 0]\n",
            "1 [0, 1, 0]\n",
            "2 [0, 0, 1]\n"
          ],
          "name": "stdout"
        },
        {
          "output_type": "error",
          "ename": "KeyboardInterrupt",
          "evalue": "ignored",
          "traceback": [
            "\u001b[0;31m---------------------------------------------------------------------------\u001b[0m",
            "\u001b[0;31mKeyboardInterrupt\u001b[0m                         Traceback (most recent call last)",
            "\u001b[0;32m/usr/local/lib/python3.6/dist-packages/ipykernel/kernelbase.py\u001b[0m in \u001b[0;36m_input_request\u001b[0;34m(self, prompt, ident, parent, password)\u001b[0m\n\u001b[1;32m    729\u001b[0m             \u001b[0;32mtry\u001b[0m\u001b[0;34m:\u001b[0m\u001b[0;34m\u001b[0m\u001b[0;34m\u001b[0m\u001b[0m\n\u001b[0;32m--> 730\u001b[0;31m                 \u001b[0mident\u001b[0m\u001b[0;34m,\u001b[0m \u001b[0mreply\u001b[0m \u001b[0;34m=\u001b[0m \u001b[0mself\u001b[0m\u001b[0;34m.\u001b[0m\u001b[0msession\u001b[0m\u001b[0;34m.\u001b[0m\u001b[0mrecv\u001b[0m\u001b[0;34m(\u001b[0m\u001b[0mself\u001b[0m\u001b[0;34m.\u001b[0m\u001b[0mstdin_socket\u001b[0m\u001b[0;34m,\u001b[0m \u001b[0;36m0\u001b[0m\u001b[0;34m)\u001b[0m\u001b[0;34m\u001b[0m\u001b[0;34m\u001b[0m\u001b[0m\n\u001b[0m\u001b[1;32m    731\u001b[0m             \u001b[0;32mexcept\u001b[0m \u001b[0mException\u001b[0m\u001b[0;34m:\u001b[0m\u001b[0;34m\u001b[0m\u001b[0;34m\u001b[0m\u001b[0m\n",
            "\u001b[0;32m/usr/local/lib/python3.6/dist-packages/jupyter_client/session.py\u001b[0m in \u001b[0;36mrecv\u001b[0;34m(self, socket, mode, content, copy)\u001b[0m\n\u001b[1;32m    802\u001b[0m         \u001b[0;32mtry\u001b[0m\u001b[0;34m:\u001b[0m\u001b[0;34m\u001b[0m\u001b[0;34m\u001b[0m\u001b[0m\n\u001b[0;32m--> 803\u001b[0;31m             \u001b[0mmsg_list\u001b[0m \u001b[0;34m=\u001b[0m \u001b[0msocket\u001b[0m\u001b[0;34m.\u001b[0m\u001b[0mrecv_multipart\u001b[0m\u001b[0;34m(\u001b[0m\u001b[0mmode\u001b[0m\u001b[0;34m,\u001b[0m \u001b[0mcopy\u001b[0m\u001b[0;34m=\u001b[0m\u001b[0mcopy\u001b[0m\u001b[0;34m)\u001b[0m\u001b[0;34m\u001b[0m\u001b[0;34m\u001b[0m\u001b[0m\n\u001b[0m\u001b[1;32m    804\u001b[0m         \u001b[0;32mexcept\u001b[0m \u001b[0mzmq\u001b[0m\u001b[0;34m.\u001b[0m\u001b[0mZMQError\u001b[0m \u001b[0;32mas\u001b[0m \u001b[0me\u001b[0m\u001b[0;34m:\u001b[0m\u001b[0;34m\u001b[0m\u001b[0;34m\u001b[0m\u001b[0m\n",
            "\u001b[0;32m/usr/local/lib/python3.6/dist-packages/zmq/sugar/socket.py\u001b[0m in \u001b[0;36mrecv_multipart\u001b[0;34m(self, flags, copy, track)\u001b[0m\n\u001b[1;32m    465\u001b[0m         \"\"\"\n\u001b[0;32m--> 466\u001b[0;31m         \u001b[0mparts\u001b[0m \u001b[0;34m=\u001b[0m \u001b[0;34m[\u001b[0m\u001b[0mself\u001b[0m\u001b[0;34m.\u001b[0m\u001b[0mrecv\u001b[0m\u001b[0;34m(\u001b[0m\u001b[0mflags\u001b[0m\u001b[0;34m,\u001b[0m \u001b[0mcopy\u001b[0m\u001b[0;34m=\u001b[0m\u001b[0mcopy\u001b[0m\u001b[0;34m,\u001b[0m \u001b[0mtrack\u001b[0m\u001b[0;34m=\u001b[0m\u001b[0mtrack\u001b[0m\u001b[0;34m)\u001b[0m\u001b[0;34m]\u001b[0m\u001b[0;34m\u001b[0m\u001b[0;34m\u001b[0m\u001b[0m\n\u001b[0m\u001b[1;32m    467\u001b[0m         \u001b[0;31m# have first part already, only loop while more to receive\u001b[0m\u001b[0;34m\u001b[0m\u001b[0;34m\u001b[0m\u001b[0;34m\u001b[0m\u001b[0m\n",
            "\u001b[0;32mzmq/backend/cython/socket.pyx\u001b[0m in \u001b[0;36mzmq.backend.cython.socket.Socket.recv\u001b[0;34m()\u001b[0m\n",
            "\u001b[0;32mzmq/backend/cython/socket.pyx\u001b[0m in \u001b[0;36mzmq.backend.cython.socket.Socket.recv\u001b[0;34m()\u001b[0m\n",
            "\u001b[0;32mzmq/backend/cython/socket.pyx\u001b[0m in \u001b[0;36mzmq.backend.cython.socket._recv_copy\u001b[0;34m()\u001b[0m\n",
            "\u001b[0;32m/usr/local/lib/python3.6/dist-packages/zmq/backend/cython/checkrc.pxd\u001b[0m in \u001b[0;36mzmq.backend.cython.checkrc._check_rc\u001b[0;34m()\u001b[0m\n",
            "\u001b[0;31mKeyboardInterrupt\u001b[0m: ",
            "\nDuring handling of the above exception, another exception occurred:\n",
            "\u001b[0;31mKeyboardInterrupt\u001b[0m                         Traceback (most recent call last)",
            "\u001b[0;32m<ipython-input-8-b2b356fd970f>\u001b[0m in \u001b[0;36m<module>\u001b[0;34m()\u001b[0m\n\u001b[1;32m     57\u001b[0m   \u001b[0;32mwhile\u001b[0m \u001b[0;32mnot\u001b[0m \u001b[0mgame_won\u001b[0m\u001b[0;34m:\u001b[0m\u001b[0;34m\u001b[0m\u001b[0;34m\u001b[0m\u001b[0m\n\u001b[1;32m     58\u001b[0m     \u001b[0mcurrent_player\u001b[0m \u001b[0;34m=\u001b[0m \u001b[0;36m1\u001b[0m\u001b[0;34m\u001b[0m\u001b[0;34m\u001b[0m\u001b[0m\n\u001b[0;32m---> 59\u001b[0;31m     \u001b[0mcolumn_choice\u001b[0m \u001b[0;34m=\u001b[0m \u001b[0mint\u001b[0m\u001b[0;34m(\u001b[0m\u001b[0minput\u001b[0m\u001b[0;34m(\u001b[0m\u001b[0;34m\"what column do you want to play?(0,1,2):\"\u001b[0m\u001b[0;34m)\u001b[0m\u001b[0;34m)\u001b[0m\u001b[0;34m\u001b[0m\u001b[0;34m\u001b[0m\u001b[0m\n\u001b[0m\u001b[1;32m     60\u001b[0m     \u001b[0mrow_choice\u001b[0m \u001b[0;34m=\u001b[0m \u001b[0mint\u001b[0m\u001b[0;34m(\u001b[0m\u001b[0minput\u001b[0m\u001b[0;34m(\u001b[0m\u001b[0;34m\"what row do you want to play?(0,1,2):\"\u001b[0m\u001b[0;34m)\u001b[0m\u001b[0;34m)\u001b[0m\u001b[0;34m\u001b[0m\u001b[0;34m\u001b[0m\u001b[0m\n\u001b[1;32m     61\u001b[0m     \u001b[0mgame\u001b[0m \u001b[0;34m=\u001b[0m \u001b[0mgame_board\u001b[0m\u001b[0;34m(\u001b[0m\u001b[0mgame\u001b[0m\u001b[0;34m,\u001b[0m\u001b[0mcurrent_player\u001b[0m\u001b[0;34m,\u001b[0m\u001b[0mrow_choice\u001b[0m\u001b[0;34m,\u001b[0m\u001b[0mcolumn_choice\u001b[0m\u001b[0;34m)\u001b[0m\u001b[0;34m\u001b[0m\u001b[0;34m\u001b[0m\u001b[0m\n",
            "\u001b[0;32m/usr/local/lib/python3.6/dist-packages/ipykernel/kernelbase.py\u001b[0m in \u001b[0;36mraw_input\u001b[0;34m(self, prompt)\u001b[0m\n\u001b[1;32m    703\u001b[0m             \u001b[0mself\u001b[0m\u001b[0;34m.\u001b[0m\u001b[0m_parent_ident\u001b[0m\u001b[0;34m,\u001b[0m\u001b[0;34m\u001b[0m\u001b[0;34m\u001b[0m\u001b[0m\n\u001b[1;32m    704\u001b[0m             \u001b[0mself\u001b[0m\u001b[0;34m.\u001b[0m\u001b[0m_parent_header\u001b[0m\u001b[0;34m,\u001b[0m\u001b[0;34m\u001b[0m\u001b[0;34m\u001b[0m\u001b[0m\n\u001b[0;32m--> 705\u001b[0;31m             \u001b[0mpassword\u001b[0m\u001b[0;34m=\u001b[0m\u001b[0;32mFalse\u001b[0m\u001b[0;34m,\u001b[0m\u001b[0;34m\u001b[0m\u001b[0;34m\u001b[0m\u001b[0m\n\u001b[0m\u001b[1;32m    706\u001b[0m         )\n\u001b[1;32m    707\u001b[0m \u001b[0;34m\u001b[0m\u001b[0m\n",
            "\u001b[0;32m/usr/local/lib/python3.6/dist-packages/ipykernel/kernelbase.py\u001b[0m in \u001b[0;36m_input_request\u001b[0;34m(self, prompt, ident, parent, password)\u001b[0m\n\u001b[1;32m    733\u001b[0m             \u001b[0;32mexcept\u001b[0m \u001b[0mKeyboardInterrupt\u001b[0m\u001b[0;34m:\u001b[0m\u001b[0;34m\u001b[0m\u001b[0;34m\u001b[0m\u001b[0m\n\u001b[1;32m    734\u001b[0m                 \u001b[0;31m# re-raise KeyboardInterrupt, to truncate traceback\u001b[0m\u001b[0;34m\u001b[0m\u001b[0;34m\u001b[0m\u001b[0;34m\u001b[0m\u001b[0m\n\u001b[0;32m--> 735\u001b[0;31m                 \u001b[0;32mraise\u001b[0m \u001b[0mKeyboardInterrupt\u001b[0m\u001b[0;34m\u001b[0m\u001b[0;34m\u001b[0m\u001b[0m\n\u001b[0m\u001b[1;32m    736\u001b[0m             \u001b[0;32melse\u001b[0m\u001b[0;34m:\u001b[0m\u001b[0;34m\u001b[0m\u001b[0;34m\u001b[0m\u001b[0m\n\u001b[1;32m    737\u001b[0m                 \u001b[0;32mbreak\u001b[0m\u001b[0;34m\u001b[0m\u001b[0;34m\u001b[0m\u001b[0m\n",
            "\u001b[0;31mKeyboardInterrupt\u001b[0m: "
          ]
        }
      ]
    },
    {
      "cell_type": "code",
      "metadata": {
        "id": "r8F93hLqXI8r",
        "colab_type": "code",
        "outputId": "37109ff3-d3d4-49f6-b0cf-58a5ba6258bf",
        "colab": {
          "base_uri": "https://localhost:8080/",
          "height": 185
        }
      },
      "source": [
        "#code for switching between the players\n",
        "import itertools\n",
        "player_choice = itertools.cycle([1,2])\n",
        "\n",
        "for i in range(10):\n",
        "  print(next(player_choice))"
      ],
      "execution_count": 0,
      "outputs": [
        {
          "output_type": "stream",
          "text": [
            "1\n",
            "2\n",
            "1\n",
            "2\n",
            "1\n",
            "2\n",
            "1\n",
            "2\n",
            "1\n",
            "2\n"
          ],
          "name": "stdout"
        }
      ]
    },
    {
      "cell_type": "code",
      "metadata": {
        "id": "W4u2APbeVKRG",
        "colab_type": "code",
        "outputId": "79d72034-87d0-4953-82b1-31192275fe61",
        "colab": {
          "base_uri": "https://localhost:8080/",
          "height": 1096
        }
      },
      "source": [
        "\n",
        "# switching between the players\n",
        "import itertools\n",
        "\n",
        "game = [[1,2,2],\n",
        "        [1,1,2],\n",
        "        [1,2,1],]\n",
        "#HORZONTAL\n",
        "def win(current_game):\n",
        "  for row in game:\n",
        "    print(row)\n",
        "    if row.count(row[0]) == len(row) and row[0] != 0:\n",
        "          print(f\"player{row[0]} is the winner horizontally\")\n",
        "        \n",
        "        \n",
        "  #DIAGONAL\n",
        "  diags = []\n",
        "  for col,row in enumerate (reversed(range(len(game)))):\n",
        "    diags.append(game[row][col])\n",
        "  if diags.count(diags[0]) == len(diags) and diags[0] != 0:\n",
        "    print(f\"player{diags[0]} is the winner diagonally(/)\") \n",
        "    \n",
        "  diags = []\n",
        "  for ix in range(len(game)):\n",
        "    diags.append(game[ix][ix])\n",
        "  if diags.count(diags[0]) == len(diags) and diags[0] != 0:\n",
        "    print(f\"player{diags[0]} is the winner diagonally(\\\\)\")  \n",
        "    \n",
        "    \n",
        "  #VERTICAL  \n",
        "  for col in range(len(game)):\n",
        "    check = []\n",
        "    for row in game:\n",
        "      check.append(row[col])\n",
        "    if check.count(check[0]) == len(check) and check[0] != 0:\n",
        "      print(f\"player{diags[0]} is the winner vertically (|)\") \n",
        "      \n",
        "      \n",
        "      \n",
        "def game_board(game_map,player=0,row=0,column=0,just_display=False):             #this is a function defination  #gamemap is passed\n",
        "  try:\n",
        "    print(\"   0  1  2\")                                                          #and from here function body begins\n",
        "    if not just_display:\n",
        "      game_map[row][column]=player                                               #modify it temporarily i.e parameter value \n",
        "    for count,row in enumerate(game_map):                                        #row will point to 1st elemenet of list i.e list which is [0,0,0] and count wil represent to elements of list inside list i.e 0\n",
        "      print(count,row) \n",
        "    return game_map\n",
        "  except IndexError as e:\n",
        "    print('make sure you input row/column as 0 1 or 2 ',e)\n",
        "  except Exception as e:\n",
        "    print('something went very wrong!! ',e)\n",
        "\n",
        "play = True\n",
        "players = [1,2]\n",
        "while play:\n",
        "  game = [[0,0,0],\n",
        "          [0,0,0],\n",
        "          [0,0,0],]\n",
        "  game_won = False\n",
        "  game = game_board(game,just_display= True) \n",
        "  player_choice = itertools.cycle([1,2])\n",
        "  while not game_won:\n",
        "    current_player = next(player_choice)\n",
        "    print(f\"current player: {current_player}\")\n",
        "    column_choice = int(input(\"what column do you want to play?(0,1,2):\"))\n",
        "    row_choice = int(input(\"what row do you want to play?(0,1,2):\"))\n",
        "    game = game_board(game,current_player,row_choice,column_choice)                        \n",
        "\n",
        "    \n",
        "#player = int(input('enter a number 0 or 1'))  \n",
        "#game = game_board(game,just_display= True)                                       #now functionis called and its value is passed to game variable\n",
        "#game = game_board(game_board,player=1,row=3,column=0)                        \n",
        "\n",
        "      \n",
        "#win(game)  "
      ],
      "execution_count": 0,
      "outputs": [
        {
          "output_type": "stream",
          "text": [
            "   0  1  2\n",
            "0 [0, 0, 0]\n",
            "1 [0, 0, 0]\n",
            "2 [0, 0, 0]\n",
            "current player: 1\n",
            "what column do you want to play?(0,1,2):0\n",
            "what row do you want to play?(0,1,2):1\n",
            "   0  1  2\n",
            "0 [0, 0, 0]\n",
            "1 [1, 0, 0]\n",
            "2 [0, 0, 0]\n",
            "current player: 2\n",
            "what column do you want to play?(0,1,2):0\n",
            "what row do you want to play?(0,1,2):2\n",
            "   0  1  2\n",
            "0 [0, 0, 0]\n",
            "1 [1, 0, 0]\n",
            "2 [2, 0, 0]\n",
            "current player: 1\n",
            "what column do you want to play?(0,1,2):0\n",
            "what row do you want to play?(0,1,2):0\n",
            "   0  1  2\n",
            "0 [1, 0, 0]\n",
            "1 [1, 0, 0]\n",
            "2 [2, 0, 0]\n",
            "current player: 2\n",
            "what column do you want to play?(0,1,2):0\n",
            "what row do you want to play?(0,1,2):1\n",
            "   0  1  2\n",
            "0 [1, 0, 0]\n",
            "1 [2, 0, 0]\n",
            "2 [2, 0, 0]\n",
            "current player: 1\n"
          ],
          "name": "stdout"
        },
        {
          "output_type": "error",
          "ename": "KeyboardInterrupt",
          "evalue": "ignored",
          "traceback": [
            "\u001b[0;31m---------------------------------------------------------------------------\u001b[0m",
            "\u001b[0;31mKeyboardInterrupt\u001b[0m                         Traceback (most recent call last)",
            "\u001b[0;32m/usr/local/lib/python3.6/dist-packages/ipykernel/kernelbase.py\u001b[0m in \u001b[0;36m_input_request\u001b[0;34m(self, prompt, ident, parent, password)\u001b[0m\n\u001b[1;32m    729\u001b[0m             \u001b[0;32mtry\u001b[0m\u001b[0;34m:\u001b[0m\u001b[0;34m\u001b[0m\u001b[0;34m\u001b[0m\u001b[0m\n\u001b[0;32m--> 730\u001b[0;31m                 \u001b[0mident\u001b[0m\u001b[0;34m,\u001b[0m \u001b[0mreply\u001b[0m \u001b[0;34m=\u001b[0m \u001b[0mself\u001b[0m\u001b[0;34m.\u001b[0m\u001b[0msession\u001b[0m\u001b[0;34m.\u001b[0m\u001b[0mrecv\u001b[0m\u001b[0;34m(\u001b[0m\u001b[0mself\u001b[0m\u001b[0;34m.\u001b[0m\u001b[0mstdin_socket\u001b[0m\u001b[0;34m,\u001b[0m \u001b[0;36m0\u001b[0m\u001b[0;34m)\u001b[0m\u001b[0;34m\u001b[0m\u001b[0;34m\u001b[0m\u001b[0m\n\u001b[0m\u001b[1;32m    731\u001b[0m             \u001b[0;32mexcept\u001b[0m \u001b[0mException\u001b[0m\u001b[0;34m:\u001b[0m\u001b[0;34m\u001b[0m\u001b[0;34m\u001b[0m\u001b[0m\n",
            "\u001b[0;32m/usr/local/lib/python3.6/dist-packages/jupyter_client/session.py\u001b[0m in \u001b[0;36mrecv\u001b[0;34m(self, socket, mode, content, copy)\u001b[0m\n\u001b[1;32m    802\u001b[0m         \u001b[0;32mtry\u001b[0m\u001b[0;34m:\u001b[0m\u001b[0;34m\u001b[0m\u001b[0;34m\u001b[0m\u001b[0m\n\u001b[0;32m--> 803\u001b[0;31m             \u001b[0mmsg_list\u001b[0m \u001b[0;34m=\u001b[0m \u001b[0msocket\u001b[0m\u001b[0;34m.\u001b[0m\u001b[0mrecv_multipart\u001b[0m\u001b[0;34m(\u001b[0m\u001b[0mmode\u001b[0m\u001b[0;34m,\u001b[0m \u001b[0mcopy\u001b[0m\u001b[0;34m=\u001b[0m\u001b[0mcopy\u001b[0m\u001b[0;34m)\u001b[0m\u001b[0;34m\u001b[0m\u001b[0;34m\u001b[0m\u001b[0m\n\u001b[0m\u001b[1;32m    804\u001b[0m         \u001b[0;32mexcept\u001b[0m \u001b[0mzmq\u001b[0m\u001b[0;34m.\u001b[0m\u001b[0mZMQError\u001b[0m \u001b[0;32mas\u001b[0m \u001b[0me\u001b[0m\u001b[0;34m:\u001b[0m\u001b[0;34m\u001b[0m\u001b[0;34m\u001b[0m\u001b[0m\n",
            "\u001b[0;32m/usr/local/lib/python3.6/dist-packages/zmq/sugar/socket.py\u001b[0m in \u001b[0;36mrecv_multipart\u001b[0;34m(self, flags, copy, track)\u001b[0m\n\u001b[1;32m    465\u001b[0m         \"\"\"\n\u001b[0;32m--> 466\u001b[0;31m         \u001b[0mparts\u001b[0m \u001b[0;34m=\u001b[0m \u001b[0;34m[\u001b[0m\u001b[0mself\u001b[0m\u001b[0;34m.\u001b[0m\u001b[0mrecv\u001b[0m\u001b[0;34m(\u001b[0m\u001b[0mflags\u001b[0m\u001b[0;34m,\u001b[0m \u001b[0mcopy\u001b[0m\u001b[0;34m=\u001b[0m\u001b[0mcopy\u001b[0m\u001b[0;34m,\u001b[0m \u001b[0mtrack\u001b[0m\u001b[0;34m=\u001b[0m\u001b[0mtrack\u001b[0m\u001b[0;34m)\u001b[0m\u001b[0;34m]\u001b[0m\u001b[0;34m\u001b[0m\u001b[0;34m\u001b[0m\u001b[0m\n\u001b[0m\u001b[1;32m    467\u001b[0m         \u001b[0;31m# have first part already, only loop while more to receive\u001b[0m\u001b[0;34m\u001b[0m\u001b[0;34m\u001b[0m\u001b[0;34m\u001b[0m\u001b[0m\n",
            "\u001b[0;32mzmq/backend/cython/socket.pyx\u001b[0m in \u001b[0;36mzmq.backend.cython.socket.Socket.recv\u001b[0;34m()\u001b[0m\n",
            "\u001b[0;32mzmq/backend/cython/socket.pyx\u001b[0m in \u001b[0;36mzmq.backend.cython.socket.Socket.recv\u001b[0;34m()\u001b[0m\n",
            "\u001b[0;32mzmq/backend/cython/socket.pyx\u001b[0m in \u001b[0;36mzmq.backend.cython.socket._recv_copy\u001b[0;34m()\u001b[0m\n",
            "\u001b[0;32m/usr/local/lib/python3.6/dist-packages/zmq/backend/cython/checkrc.pxd\u001b[0m in \u001b[0;36mzmq.backend.cython.checkrc._check_rc\u001b[0;34m()\u001b[0m\n",
            "\u001b[0;31mKeyboardInterrupt\u001b[0m: ",
            "\nDuring handling of the above exception, another exception occurred:\n",
            "\u001b[0;31mKeyboardInterrupt\u001b[0m                         Traceback (most recent call last)",
            "\u001b[0;32m<ipython-input-11-624e1c1d31d9>\u001b[0m in \u001b[0;36m<module>\u001b[0;34m()\u001b[0m\n\u001b[1;32m     61\u001b[0m     \u001b[0mcurrent_player\u001b[0m \u001b[0;34m=\u001b[0m \u001b[0mnext\u001b[0m\u001b[0;34m(\u001b[0m\u001b[0mplayer_choice\u001b[0m\u001b[0;34m)\u001b[0m\u001b[0;34m\u001b[0m\u001b[0;34m\u001b[0m\u001b[0m\n\u001b[1;32m     62\u001b[0m     \u001b[0mprint\u001b[0m\u001b[0;34m(\u001b[0m\u001b[0;34mf\"current player: {current_player}\"\u001b[0m\u001b[0;34m)\u001b[0m\u001b[0;34m\u001b[0m\u001b[0;34m\u001b[0m\u001b[0m\n\u001b[0;32m---> 63\u001b[0;31m     \u001b[0mcolumn_choice\u001b[0m \u001b[0;34m=\u001b[0m \u001b[0mint\u001b[0m\u001b[0;34m(\u001b[0m\u001b[0minput\u001b[0m\u001b[0;34m(\u001b[0m\u001b[0;34m\"what column do you want to play?(0,1,2):\"\u001b[0m\u001b[0;34m)\u001b[0m\u001b[0;34m)\u001b[0m\u001b[0;34m\u001b[0m\u001b[0;34m\u001b[0m\u001b[0m\n\u001b[0m\u001b[1;32m     64\u001b[0m     \u001b[0mrow_choice\u001b[0m \u001b[0;34m=\u001b[0m \u001b[0mint\u001b[0m\u001b[0;34m(\u001b[0m\u001b[0minput\u001b[0m\u001b[0;34m(\u001b[0m\u001b[0;34m\"what row do you want to play?(0,1,2):\"\u001b[0m\u001b[0;34m)\u001b[0m\u001b[0;34m)\u001b[0m\u001b[0;34m\u001b[0m\u001b[0;34m\u001b[0m\u001b[0m\n\u001b[1;32m     65\u001b[0m     \u001b[0mgame\u001b[0m \u001b[0;34m=\u001b[0m \u001b[0mgame_board\u001b[0m\u001b[0;34m(\u001b[0m\u001b[0mgame\u001b[0m\u001b[0;34m,\u001b[0m\u001b[0mcurrent_player\u001b[0m\u001b[0;34m,\u001b[0m\u001b[0mrow_choice\u001b[0m\u001b[0;34m,\u001b[0m\u001b[0mcolumn_choice\u001b[0m\u001b[0;34m)\u001b[0m\u001b[0;34m\u001b[0m\u001b[0;34m\u001b[0m\u001b[0m\n",
            "\u001b[0;32m/usr/local/lib/python3.6/dist-packages/ipykernel/kernelbase.py\u001b[0m in \u001b[0;36mraw_input\u001b[0;34m(self, prompt)\u001b[0m\n\u001b[1;32m    703\u001b[0m             \u001b[0mself\u001b[0m\u001b[0;34m.\u001b[0m\u001b[0m_parent_ident\u001b[0m\u001b[0;34m,\u001b[0m\u001b[0;34m\u001b[0m\u001b[0;34m\u001b[0m\u001b[0m\n\u001b[1;32m    704\u001b[0m             \u001b[0mself\u001b[0m\u001b[0;34m.\u001b[0m\u001b[0m_parent_header\u001b[0m\u001b[0;34m,\u001b[0m\u001b[0;34m\u001b[0m\u001b[0;34m\u001b[0m\u001b[0m\n\u001b[0;32m--> 705\u001b[0;31m             \u001b[0mpassword\u001b[0m\u001b[0;34m=\u001b[0m\u001b[0;32mFalse\u001b[0m\u001b[0;34m,\u001b[0m\u001b[0;34m\u001b[0m\u001b[0;34m\u001b[0m\u001b[0m\n\u001b[0m\u001b[1;32m    706\u001b[0m         )\n\u001b[1;32m    707\u001b[0m \u001b[0;34m\u001b[0m\u001b[0m\n",
            "\u001b[0;32m/usr/local/lib/python3.6/dist-packages/ipykernel/kernelbase.py\u001b[0m in \u001b[0;36m_input_request\u001b[0;34m(self, prompt, ident, parent, password)\u001b[0m\n\u001b[1;32m    733\u001b[0m             \u001b[0;32mexcept\u001b[0m \u001b[0mKeyboardInterrupt\u001b[0m\u001b[0;34m:\u001b[0m\u001b[0;34m\u001b[0m\u001b[0;34m\u001b[0m\u001b[0m\n\u001b[1;32m    734\u001b[0m                 \u001b[0;31m# re-raise KeyboardInterrupt, to truncate traceback\u001b[0m\u001b[0;34m\u001b[0m\u001b[0;34m\u001b[0m\u001b[0;34m\u001b[0m\u001b[0m\n\u001b[0;32m--> 735\u001b[0;31m                 \u001b[0;32mraise\u001b[0m \u001b[0mKeyboardInterrupt\u001b[0m\u001b[0;34m\u001b[0m\u001b[0;34m\u001b[0m\u001b[0m\n\u001b[0m\u001b[1;32m    736\u001b[0m             \u001b[0;32melse\u001b[0m\u001b[0;34m:\u001b[0m\u001b[0;34m\u001b[0m\u001b[0;34m\u001b[0m\u001b[0m\n\u001b[1;32m    737\u001b[0m                 \u001b[0;32mbreak\u001b[0m\u001b[0;34m\u001b[0m\u001b[0;34m\u001b[0m\u001b[0m\n",
            "\u001b[0;31mKeyboardInterrupt\u001b[0m: "
          ]
        }
      ]
    },
    {
      "cell_type": "code",
      "metadata": {
        "id": "coMrrhWBbDMZ",
        "colab_type": "code",
        "outputId": "045b7626-9fde-4708-d361-ef6cd1fb78cc",
        "colab": {
          "base_uri": "https://localhost:8080/",
          "height": 974
        }
      },
      "source": [
        "#secondlast tut\n",
        "# switching between the players\n",
        "import itertools\n",
        "\n",
        "#HORZONTAL\n",
        "def win(current_game):\n",
        "  \n",
        "  def all_same(l):\n",
        "    if l.count(l[0]) == len(l) and l[0] != 0:\n",
        "      return True\n",
        "    else:\n",
        "      return False\n",
        "  \n",
        "  for row in game:\n",
        "    print(row)\n",
        "    if all_same(row):\n",
        "      print(f\"player{row[0]} is the winner horizontally\")\n",
        "      return True\n",
        "        \n",
        "        \n",
        "  #DIAGONAL\n",
        "  diags = []\n",
        "  for col,row in enumerate (reversed(range(len(game)))):\n",
        "    diags.append(game[row][col])\n",
        "  if all_same(diags):\n",
        "    print(f\"player{diags[0]} is the winner diagonally(/)\")\n",
        "    return True\n",
        "    \n",
        "  diags = []\n",
        "  for ix in range(len(game)):\n",
        "    diags.append(game[ix][ix])\n",
        "  if all_same(diags):\n",
        "    print(f\"player{diags[0]} is the winner diagonally(\\\\)\")  \n",
        "    return True\n",
        "    \n",
        "  #VERTICAL  \n",
        "  for col in range(len(game)):\n",
        "    check = []\n",
        "    for row in game:\n",
        "      check.append(row[col])\n",
        "    if all_same(check):\n",
        "      print(f\"player{diags[0]} is the winner vertically (|)\") \n",
        "      return True\n",
        "  return False  \n",
        "      \n",
        "      \n",
        "def game_board(game_map,player=0,row=0,column=0,just_display=False):             #this is a function defination  #gamemap is passe \n",
        "  try:\n",
        "    if game_map[row][column] != 0:\n",
        "      print(\"this position is occupied try another\")\n",
        "      return game_map, False\n",
        "    print(\"   0  1  2\")                                                          #and from here function body begins\n",
        "    if not just_display:\n",
        "      game_map[row][column]=player                                               #modify it temporarily i.e parameter value \n",
        "    for count,row in enumerate(game_map):                                        #row will point to 1st elemenet of list i.e list which is [0,0,0] and count wil represent to elements of list inside list i.e 0\n",
        "      print(count,row) \n",
        "    return game_map, True\n",
        "  except IndexError as e:\n",
        "    print('make sure you input row/column as 0 1 or 2 ',e)\n",
        "    return game_map, False\n",
        "  except Exception as e:\n",
        "    print('something went very wrong!! ',e)\n",
        "    return game_map, False\n",
        "\n",
        "play = True\n",
        "players = [1,2]\n",
        "while play:\n",
        "  game = [[0,0,0],\n",
        "          [0,0,0],\n",
        "          [0,0,0],]\n",
        "  game_won = False\n",
        "  game, _ = game_board(game,just_display= True)#_ means you don't care about what it returns \n",
        "  player_choice = itertools.cycle([1,2])\n",
        "  while not game_won:\n",
        "    current_player = next(player_choice)\n",
        "    print(f\"current player: {current_player}\")\n",
        "    played = False\n",
        "    \n",
        "    while not played:\n",
        "      column_choice = int(input(\"what column do you want to play?(0,1,2):\"))\n",
        "      row_choice = int(input(\"what row do you want to play?(0,1,2):\"))\n",
        "      game, played = game_board(game,current_player,row_choice,column_choice)\n",
        "    \n",
        "    if win(game):\n",
        "      game_won = True\n",
        "      again = input(\"The game is Over, woud you like to play again(y/n)\")\n",
        "      if again.lower() == \"y\":\n",
        "        print(\"restarting\")\n",
        "      elif again.lower() == \"n\":\n",
        "        print(\"Byee\")\n",
        "        play = False\n",
        "      else:\n",
        "        print(\"not a valid answer, so see you later\")\n",
        "        play = False\n",
        "\n",
        "    \n",
        "#player = int(input('enter a number 0 or 1'))  \n",
        "#game = game_board(game,just_display= True)                                       #now functionis called and its value is passed to game variable\n",
        "#game = game_board(game_board,player=1,row=3,column=0)                        \n",
        "\n",
        "      \n",
        "#win(game)  "
      ],
      "execution_count": 0,
      "outputs": [
        {
          "output_type": "stream",
          "text": [
            "   0  1  2\n",
            "0 [0, 0, 0]\n",
            "1 [0, 0, 0]\n",
            "2 [0, 0, 0]\n",
            "current player: 1\n",
            "what column do you want to play?(0,1,2):1\n",
            "what row do you want to play?(0,1,2):1\n",
            "   0  1  2\n",
            "0 [0, 0, 0]\n",
            "1 [0, 1, 0]\n",
            "2 [0, 0, 0]\n",
            "[0, 0, 0]\n",
            "[0, 1, 0]\n",
            "[0, 0, 0]\n",
            "current player: 2\n",
            "what column do you want to play?(0,1,2):1\n",
            "what row do you want to play?(0,1,2):2\n",
            "   0  1  2\n",
            "0 [0, 0, 0]\n",
            "1 [0, 1, 0]\n",
            "2 [0, 2, 0]\n",
            "[0, 0, 0]\n",
            "[0, 1, 0]\n",
            "[0, 2, 0]\n",
            "current player: 1\n",
            "what column do you want to play?(0,1,2):0\n",
            "what row do you want to play?(0,1,2):0\n",
            "   0  1  2\n",
            "0 [1, 0, 0]\n",
            "1 [0, 1, 0]\n",
            "2 [0, 2, 0]\n",
            "[1, 0, 0]\n",
            "[0, 1, 0]\n",
            "[0, 2, 0]\n",
            "current player: 2\n",
            "what column do you want to play?(0,1,2):0\n",
            "what row do you want to play?(0,1,2):2\n",
            "   0  1  2\n",
            "0 [1, 0, 0]\n",
            "1 [0, 1, 0]\n",
            "2 [2, 2, 0]\n",
            "[1, 0, 0]\n",
            "[0, 1, 0]\n",
            "[2, 2, 0]\n",
            "current player: 1\n",
            "what column do you want to play?(0,1,2):2\n",
            "what row do you want to play?(0,1,2):2\n",
            "   0  1  2\n",
            "0 [1, 0, 0]\n",
            "1 [0, 1, 0]\n",
            "2 [2, 2, 1]\n",
            "[1, 0, 0]\n",
            "[0, 1, 0]\n",
            "[2, 2, 1]\n",
            "player1 is the winner diagonally(\\)\n",
            "The game is Over, woud you like to play again(y/n)n\n",
            "Byee\n"
          ],
          "name": "stdout"
        }
      ]
    },
    {
      "cell_type": "code",
      "metadata": {
        "id": "e8vg5dIdyue4",
        "colab_type": "code",
        "outputId": "21195b20-fab2-47b3-aee4-742e644925a5",
        "colab": {
          "base_uri": "https://localhost:8080/",
          "height": 52
        }
      },
      "source": [
        "#method 1\n",
        "#list comprehension\n",
        "game_size = 3\n",
        "\n",
        "print(\"   0  1  2\")\n",
        "s = \"   \"+\"  \".join([str(i) for i in range(game_size)])\n",
        "print(s)"
      ],
      "execution_count": 0,
      "outputs": [
        {
          "output_type": "stream",
          "text": [
            "   0  1  2\n",
            "   0  1  2\n"
          ],
          "name": "stdout"
        }
      ]
    },
    {
      "cell_type": "code",
      "metadata": {
        "id": "NbOiA8H4z0PM",
        "colab_type": "code",
        "outputId": "f592b1e2-128c-4282-ea5b-1ef13c25ce5a",
        "colab": {
          "base_uri": "https://localhost:8080/",
          "height": 52
        }
      },
      "source": [
        "#Method 2\n",
        "game_size = 3\n",
        "\n",
        "print(\"   0  1  2\")\n",
        "s = \" \"\n",
        "for i in range(game_size):\n",
        "  s += \"  \"+str(i)\n",
        "print(s)  "
      ],
      "execution_count": 0,
      "outputs": [
        {
          "output_type": "stream",
          "text": [
            "   0  1  2\n",
            "   0  1  2\n"
          ],
          "name": "stdout"
        }
      ]
    },
    {
      "cell_type": "code",
      "metadata": {
        "id": "OBmxdV4_2RDy",
        "colab_type": "code",
        "outputId": "f295f2a6-5621-41c6-cd75-dd2c6df007cc",
        "colab": {
          "base_uri": "https://localhost:8080/",
          "height": 34
        }
      },
      "source": [
        "\n",
        "# Python program to demonstrate the \n",
        "# use of join function to join list \n",
        "# elements with a character. \n",
        "  \n",
        "list1 = ['1','2','3','4']  \n",
        "  \n",
        "s = \"-\"\n",
        "  \n",
        "# joins elements of list1 by '-' \n",
        "# and stores in sting s \n",
        "s = s.join(list1) \n",
        "  \n",
        "# join use to join a list of \n",
        "# strings to a separator s \n",
        "print(s) \n"
      ],
      "execution_count": 0,
      "outputs": [
        {
          "output_type": "stream",
          "text": [
            "1-2-3-4\n"
          ],
          "name": "stdout"
        }
      ]
    },
    {
      "cell_type": "code",
      "metadata": {
        "id": "iJp8a3tf2WJD",
        "colab_type": "code",
        "outputId": "e41d84a4-356f-4a87-9579-a09923206989",
        "colab": {
          "base_uri": "https://localhost:8080/",
          "height": 1233
        }
      },
      "source": [
        "#secondlast tut\n",
        "# switching between the players\n",
        "import itertools\n",
        "\n",
        "#HORZONTAL\n",
        "def win(current_game):\n",
        "  \n",
        "  def all_same(l):\n",
        "    if l.count(l[0]) == len(l) and l[0] != 0:\n",
        "      return True\n",
        "    else:\n",
        "      return False\n",
        "  \n",
        "  for row in game:\n",
        "    print(row)\n",
        "    if all_same(row):\n",
        "      print(f\"player{row[0]} is the winner horizontally\")\n",
        "      return True\n",
        "        \n",
        "        \n",
        "  #DIAGONAL\n",
        "  diags = []\n",
        "  for col,row in enumerate (reversed(range(len(game)))):\n",
        "    diags.append(game[row][col])\n",
        "  if all_same(diags):\n",
        "    print(f\"player{diags[0]} is the winner diagonally(/)\")\n",
        "    return True\n",
        "    \n",
        "  diags = []\n",
        "  for ix in range(len(game)):\n",
        "    diags.append(game[ix][ix])\n",
        "  if all_same(diags):\n",
        "    print(f\"player{diags[0]} is the winner diagonally(\\\\)\")  \n",
        "    return True\n",
        "    \n",
        "  #VERTICAL  \n",
        "  for col in range(len(game)):\n",
        "    check = []\n",
        "    for row in game:\n",
        "      check.append(row[col])\n",
        "    if all_same(check):\n",
        "      print(f\"player{diags[0]} is the winner vertically (|)\") \n",
        "      return True\n",
        "  return False  \n",
        "      \n",
        "      \n",
        "def game_board(game_map,player=0,row=0,column=0,just_display=False):             #this is a function defination  #gamemap is passe \n",
        "  try:\n",
        "    if game_map[row][column] != 0:\n",
        "      print(\"this position is occupied try another\")\n",
        "      return game_map, False\n",
        "    print(\"   \"+\"  \".join([str(i) for i in range(len(game_map))]))                                                         \n",
        "    if not just_display:\n",
        "      game_map[row][column]=player                                               #modify it temporarily i.e parameter value \n",
        "    for count,row in enumerate(game_map):                                        #row will point to 1st elemenet of list i.e list which is [0,0,0] and count wil represent to elements of list inside list i.e 0\n",
        "      print(count,row) \n",
        "    return game_map, True\n",
        "  except IndexError as e:\n",
        "    print('make sure you input row/column as 0 1 or 2 ',e)\n",
        "    return game_map, False\n",
        "  except Exception as e:\n",
        "    print('something went very wrong!! ',e)\n",
        "    return game_map, False\n",
        "\n",
        "play = True\n",
        "players = [1,2]\n",
        "while play:\n",
        "  game = [[0,0,0],\n",
        "          [0,0,0],\n",
        "          [0,0,0],]\n",
        "  game_won = False\n",
        "  game, _ = game_board(game,just_display= True)#_ means you don't care about what it returns \n",
        "  player_choice = itertools.cycle([1,2])\n",
        "  while not game_won:\n",
        "    current_player = next(player_choice)\n",
        "    print(f\"current player: {current_player}\")\n",
        "    played = False\n",
        "    \n",
        "    while not played:\n",
        "      column_choice = int(input(\"what column do you want to play?(0,1,2):\"))\n",
        "      row_choice = int(input(\"what row do you want to play?(0,1,2):\"))\n",
        "      game, played = game_board(game,current_player,row_choice,column_choice)\n",
        "    \n",
        "    if win(game):\n",
        "      game_won = True\n",
        "      again = input(\"The game is Over, woud you like to play again(y/n)\")\n",
        "      if again.lower() == \"y\":\n",
        "        print(\"restarting\")\n",
        "      elif again.lower() == \"n\":\n",
        "        print(\"Byee\")\n",
        "        play = False\n",
        "      else:\n",
        "        print(\"not a valid answer, so see you later\")\n",
        "        play = False\n",
        "\n",
        "    \n",
        "#player = int(input('enter a number 0 or 1'))  \n",
        "#game = game_board(game,just_display= True)                                       #now functionis called and its value is passed to game variable\n",
        "#game = game_board(game_board,player=1,row=3,column=0)                        \n",
        "\n",
        "      \n",
        "#win(game)  "
      ],
      "execution_count": 0,
      "outputs": [
        {
          "output_type": "stream",
          "text": [
            "   0  1  2\n",
            "0 [0, 0, 0]\n",
            "1 [0, 0, 0]\n",
            "2 [0, 0, 0]\n",
            "current player: 1\n",
            "what column do you want to play?(0,1,2):2\n",
            "what row do you want to play?(0,1,2):1\n",
            "   0  1  2\n",
            "0 [0, 0, 0]\n",
            "1 [0, 0, 1]\n",
            "2 [0, 0, 0]\n",
            "[0, 0, 0]\n",
            "[0, 0, 1]\n",
            "[0, 0, 0]\n",
            "current player: 2\n",
            "what column do you want to play?(0,1,2):11\n",
            "what row do you want to play?(0,1,2):1\n",
            "make sure you input row/column as 0 1 or 2  list index out of range\n",
            "what column do you want to play?(0,1,2):1\n",
            "what row do you want to play?(0,1,2):1\n",
            "   0  1  2\n",
            "0 [0, 0, 0]\n",
            "1 [0, 2, 1]\n",
            "2 [0, 0, 0]\n",
            "[0, 0, 0]\n",
            "[0, 2, 1]\n",
            "[0, 0, 0]\n",
            "current player: 1\n",
            "what column do you want to play?(0,1,2):2\n",
            "what row do you want to play?(0,1,2):0\n",
            "   0  1  2\n",
            "0 [0, 0, 1]\n",
            "1 [0, 2, 1]\n",
            "2 [0, 0, 0]\n",
            "[0, 0, 1]\n",
            "[0, 2, 1]\n",
            "[0, 0, 0]\n",
            "current player: 2\n",
            "what column do you want to play?(0,1,2):2\n",
            "what row do you want to play?(0,1,2):2\n",
            "   0  1  2\n",
            "0 [0, 0, 1]\n",
            "1 [0, 2, 1]\n",
            "2 [0, 0, 2]\n",
            "[0, 0, 1]\n",
            "[0, 2, 1]\n",
            "[0, 0, 2]\n",
            "current player: 1\n",
            "what column do you want to play?(0,1,2):1\n",
            "what row do you want to play?(0,1,2):2\n",
            "   0  1  2\n",
            "0 [0, 0, 1]\n",
            "1 [0, 2, 1]\n",
            "2 [0, 1, 2]\n",
            "[0, 0, 1]\n",
            "[0, 2, 1]\n",
            "[0, 1, 2]\n",
            "current player: 2\n",
            "what column do you want to play?(0,1,2):0\n",
            "what row do you want to play?(0,1,2):0\n",
            "   0  1  2\n",
            "0 [2, 0, 1]\n",
            "1 [0, 2, 1]\n",
            "2 [0, 1, 2]\n",
            "[2, 0, 1]\n",
            "[0, 2, 1]\n",
            "[0, 1, 2]\n",
            "player2 is the winner diagonally(\\)\n",
            "The game is Over, woud you like to play again(y/n)n\n",
            "Byee\n"
          ],
          "name": "stdout"
        }
      ]
    },
    {
      "cell_type": "code",
      "metadata": {
        "id": "xKjjjB1DRXh_",
        "colab_type": "code",
        "outputId": "79ec0e38-00c0-4b34-dda2-5f0f66698586",
        "colab": {
          "base_uri": "https://localhost:8080/",
          "height": 35
        }
      },
      "source": [
        "import datetime\n",
        "print(datetime.date(1970, 1, 1).strftime('%Y-%d-%B'))"
      ],
      "execution_count": 0,
      "outputs": [
        {
          "output_type": "stream",
          "text": [
            "1970-01-January\n"
          ],
          "name": "stdout"
        }
      ]
    },
    {
      "cell_type": "code",
      "metadata": {
        "id": "Lk6Ukxz285Kj",
        "colab_type": "code",
        "outputId": "820a96d2-5532-4d85-9625-077bc534b898",
        "colab": {
          "base_uri": "https://localhost:8080/",
          "height": 34
        }
      },
      "source": [
        "#make game size dynamic\n",
        "game_size = 5\n",
        "\n",
        "game = []\n",
        "for i in range(game_size):\n",
        "  row = []\n",
        "  for i in range(game_size):\n",
        "    row.append(0)\n",
        "  game.append(row) \n",
        "print(game)  \n",
        "    "
      ],
      "execution_count": 0,
      "outputs": [
        {
          "output_type": "stream",
          "text": [
            "[[0, 0, 0, 0, 0], [0, 0, 0, 0, 0], [0, 0, 0, 0, 0], [0, 0, 0, 0, 0], [0, 0, 0, 0, 0]]\n"
          ],
          "name": "stdout"
        }
      ]
    }
  ]
}