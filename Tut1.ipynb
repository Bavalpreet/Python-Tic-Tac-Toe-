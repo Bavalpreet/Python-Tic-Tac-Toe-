{
  "nbformat": 4,
  "nbformat_minor": 0,
  "metadata": {
    "colab": {
      "name": "Tut1.ipynb",
      "version": "0.3.2",
      "provenance": []
    },
    "kernelspec": {
      "name": "python3",
      "display_name": "Python 3"
    }
  },
  "cells": [
    {
      "cell_type": "code",
      "metadata": {
        "id": "UxsZDptL5ne3",
        "colab_type": "code",
        "outputId": "a493b4c8-209d-4ed6-fdc9-b2cf8be76737",
        "colab": {
          "base_uri": "https://localhost:8080/",
          "height": 85
        }
      },
      "source": [
        "# CREDITS - SENTDEX(youtube channel)\n",
        "game = [[0,0,0],\n",
        "        [0,0,0],\n",
        "        [0,0,0],]                                 # this is a list containing three elements in form of list\n",
        "def game_board(player = 0, row = 0, column = 0):  #this is a function defination\n",
        "  print(\"   a  b  c\")                             #and from here function body begins\n",
        "  count = 0\n",
        "  for x in game:\n",
        "    print(count,x)\n",
        "    count += 1\n",
        "     \n",
        "game_board()                                      #function call\n",
        "\n",
        "  \n"
      ],
      "execution_count": 0,
      "outputs": [
        {
          "output_type": "stream",
          "text": [
            "   a  b  c\n",
            "0 [0, 0, 0]\n",
            "1 [0, 0, 0]\n",
            "2 [0, 0, 0]\n"
          ],
          "name": "stdout"
        }
      ]
    },
    {
      "cell_type": "markdown",
      "metadata": {
        "id": "SAETQ785HLrl",
        "colab_type": "text"
      },
      "source": [
        "Before starting i am assuming you are clear with the very basics of python.\n",
        "So in first tutorial of Tic-tac-toe we will design basically how the game looks like"
      ]
    }
  ]
}