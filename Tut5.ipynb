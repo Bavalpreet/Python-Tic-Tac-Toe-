{
  "nbformat": 4,
  "nbformat_minor": 0,
  "metadata": {
    "colab": {
      "name": "Tut5.ipynb",
      "version": "0.3.2",
      "provenance": []
    },
    "kernelspec": {
      "name": "python3",
      "display_name": "Python 3"
    }
  },
  "cells": [
    {
      "cell_type": "code",
      "metadata": {
        "id": "LGHUg9FtG20_",
        "colab_type": "code",
        "colab": {
          "base_uri": "https://localhost:8080/",
          "height": 35
        },
        "outputId": "108f0206-8908-4d6b-ed99-78299e201563"
      },
      "source": [
        "#diagonal winner\n",
        "game = [[1,2,1],\n",
        "        [1,1,2],\n",
        "        [1,2,0],]\n",
        "\n",
        "if game[0][0] == game[1][1] == game[2][2]:\n",
        "  print(\"winner\")\n",
        "  \n",
        "if game[2][0] == game[1][1] == game[0][2]:\n",
        "  print(\"winner\")  "
      ],
      "execution_count": 1,
      "outputs": [
        {
          "output_type": "stream",
          "text": [
            "winner\n"
          ],
          "name": "stdout"
        }
      ]
    },
    {
      "cell_type": "code",
      "metadata": {
        "id": "5my78vjNG_KR",
        "colab_type": "code",
        "colab": {
          "base_uri": "https://localhost:8080/",
          "height": 52
        },
        "outputId": "7f0ecdeb-14fc-4465-f319-eaa674a1151b"
      },
      "source": [
        "#diagonal winner 2\n",
        "#this code for first diagonal\n",
        "game = [[3,2,1],\n",
        "        [1,3,2],\n",
        "        [1,2,3],]\n",
        "\n",
        "diags = []\n",
        "for ix in range(len(game)):\n",
        "  diags.append(game[ix][ix])\n",
        "print(diags)\n",
        "if diags.count(diags[0]) == len(diags) and diags[0] != 0:\n",
        "    print(\"winner\")\n",
        "    \n",
        "  "
      ],
      "execution_count": 2,
      "outputs": [
        {
          "output_type": "stream",
          "text": [
            "[3, 3, 3]\n",
            "winner\n"
          ],
          "name": "stdout"
        }
      ]
    },
    {
      "cell_type": "code",
      "metadata": {
        "id": "tEOdk9QEHAm7",
        "colab_type": "code",
        "colab": {
          "base_uri": "https://localhost:8080/",
          "height": 69
        },
        "outputId": "b1ece93b-7e49-41cd-cd87-4c2eafd65490"
      },
      "source": [
        "#diagonal part 3\n",
        "game = [[1,2,1],\n",
        "        [1,1,2],\n",
        "        [1,2,1],]\n",
        "cols = list(reversed(range(len(game))))\n",
        "rows = range(len(game))\n",
        "\n",
        "for idx in rows:\n",
        "  print(idx,cols[idx])"
      ],
      "execution_count": 3,
      "outputs": [
        {
          "output_type": "stream",
          "text": [
            "0 2\n",
            "1 1\n",
            "2 0\n"
          ],
          "name": "stdout"
        }
      ]
    },
    {
      "cell_type": "code",
      "metadata": {
        "id": "7ZnzRMfIHFkB",
        "colab_type": "code",
        "colab": {
          "base_uri": "https://localhost:8080/",
          "height": 69
        },
        "outputId": "590386de-d23e-46ab-bbd5-5054bc57cc5c"
      },
      "source": [
        "x = [2,3,4]\n",
        "y = [1,2,3]\n",
        "zip(x,y)\n",
        "for i in zip(x,y):\n",
        "  print(i)"
      ],
      "execution_count": 4,
      "outputs": [
        {
          "output_type": "stream",
          "text": [
            "(2, 1)\n",
            "(3, 2)\n",
            "(4, 3)\n"
          ],
          "name": "stdout"
        }
      ]
    },
    {
      "cell_type": "code",
      "metadata": {
        "id": "RWqZVpqVHHRz",
        "colab_type": "code",
        "colab": {
          "base_uri": "https://localhost:8080/",
          "height": 121
        },
        "outputId": "5e32a7e6-09e1-44cb-cf2d-51a29a45ef90"
      },
      "source": [
        "#part3\n",
        "game = [[1,2,1],\n",
        "        [1,1,2],\n",
        "        [1,2,1],]\n",
        "cols = reversed(range(len(game)))\n",
        "rows = range(len(game))\n",
        "\n",
        "for col,row in zip(cols,rows):\n",
        "  print(col,row)\n",
        "  \n",
        "  \n",
        "  #or we can do it like this also it wil also give the same result\n",
        "game = [[1,2,1],\n",
        "        [1,1,2],\n",
        "        [1,2,1],]\n",
        "\n",
        "for col,row in zip(reversed(range(len(game))),range(len(game))):\n",
        "  print(col,row)  "
      ],
      "execution_count": 5,
      "outputs": [
        {
          "output_type": "stream",
          "text": [
            "2 0\n",
            "1 1\n",
            "0 2\n",
            "2 0\n",
            "1 1\n",
            "0 2\n"
          ],
          "name": "stdout"
        }
      ]
    },
    {
      "cell_type": "code",
      "metadata": {
        "id": "5MsRawXkHMQQ",
        "colab_type": "code",
        "colab": {
          "base_uri": "https://localhost:8080/",
          "height": 69
        },
        "outputId": "fdfb8b21-4547-41b8-b48f-320fa92c1133"
      },
      "source": [
        "  #or we can do it like this also it wil also give the same result\n",
        "game = [[1,2,1],\n",
        "        [1,1,2],\n",
        "        [1,2,1],]\n",
        "\n",
        "for col,row in enumerate (reversed(range(len(game)))):\n",
        "  print(col,row)  "
      ],
      "execution_count": 6,
      "outputs": [
        {
          "output_type": "stream",
          "text": [
            "0 2\n",
            "1 1\n",
            "2 0\n"
          ],
          "name": "stdout"
        }
      ]
    },
    {
      "cell_type": "markdown",
      "metadata": {
        "id": "RpN4BCfXHQHQ",
        "colab_type": "text"
      },
      "source": [
        " Enumerate() method adds a counter to an iterable and returns it in a form of enumerate object\n",
        " "
      ]
    },
    {
      "cell_type": "code",
      "metadata": {
        "id": "k1iNDMQiHRIH",
        "colab_type": "code",
        "colab": {
          "base_uri": "https://localhost:8080/",
          "height": 35
        },
        "outputId": "42ceecc1-1073-40ef-af6d-bfffa53bd8e4"
      },
      "source": [
        "#this is code for 2nd diagonal\n",
        "game = [[1,2,2],\n",
        "        [1,1,2],\n",
        "        [1,2,1],]\n",
        "diags = []\n",
        "for col,row in enumerate (reversed(range(len(game)))):\n",
        "  diags.append(game[row][col])\n",
        "print(diags)  "
      ],
      "execution_count": 7,
      "outputs": [
        {
          "output_type": "stream",
          "text": [
            "[1, 1, 2]\n"
          ],
          "name": "stdout"
        }
      ]
    },
    {
      "cell_type": "code",
      "metadata": {
        "id": "hUkmxjQnHZBV",
        "colab_type": "code",
        "colab": {}
      },
      "source": [
        "#now i am gonna combine code for first diagonal and 2nd diagonal\n",
        "game = [[1,2,2],\n",
        "        [1,1,2],\n",
        "        [1,2,1],]\n",
        "diags = []\n",
        "for col,row in enumerate (reversed(range(len(game)))):\n",
        "  diags.append(game[row][col])\n",
        "diags = []\n",
        "for ix in range(len(game)):\n",
        "  diags.append(game[ix][ix])  "
      ],
      "execution_count": 0,
      "outputs": []
    }
  ]
}