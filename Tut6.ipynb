{
  "nbformat": 4,
  "nbformat_minor": 0,
  "metadata": {
    "colab": {
      "name": "Tut6.ipynb",
      "version": "0.3.2",
      "provenance": []
    },
    "kernelspec": {
      "name": "python3",
      "display_name": "Python 3"
    }
  },
  "cells": [
    {
      "cell_type": "code",
      "metadata": {
        "id": "9roBzzSrHo5c",
        "colab_type": "code",
        "colab": {
          "base_uri": "https://localhost:8080/",
          "height": 104
        },
        "outputId": "10af20a4-6300-4b1f-f69c-981ca4cc1e36"
      },
      "source": [
        "# putting all the things together\n",
        "game = [[1,2,2],\n",
        "        [1,1,2],\n",
        "        [1,2,1],]\n",
        "#HORZONTAL\n",
        "def win(current_game):\n",
        "  for row in game:\n",
        "    print(row)\n",
        "    if row.count(row[0]) == len(row) and row[0] != 0:\n",
        "          print(f\"player{row[0]} is the winner horizontally\")\n",
        "        \n",
        "        \n",
        "  #DIAGONAL\n",
        "  diags = []\n",
        "  for col,row in enumerate (reversed(range(len(game)))):\n",
        "    diags.append(game[row][col])\n",
        "  if diags.count(diags[0]) == len(diags) and diags[0] != 0:\n",
        "    print(f\"player{diags[0]} is the winner diagonally(/)\") \n",
        "    \n",
        "  diags = []\n",
        "  for ix in range(len(game)):\n",
        "    diags.append(game[ix][ix])\n",
        "  if diags.count(diags[0]) == len(diags) and diags[0] != 0:\n",
        "    print(f\"player{diags[0]} is the winner diagonally(\\\\)\")  \n",
        "    \n",
        "    \n",
        "  #VERTICAL  \n",
        "  for col in range(len(game)):\n",
        "    check = []\n",
        "    for row in game:\n",
        "      check.append(row[col])\n",
        "    if check.count(check[0]) == len(check) and check[0] != 0:\n",
        "      print(f\"player{diags[0]} is the winner vertically (|)\") \n",
        "      \n",
        "      \n",
        "      \n",
        "      \n",
        "win(game)      "
      ],
      "execution_count": 1,
      "outputs": [
        {
          "output_type": "stream",
          "text": [
            "[1, 2, 2]\n",
            "[1, 1, 2]\n",
            "[1, 2, 1]\n",
            "player1 is the winner diagonally(\\)\n",
            "player1 is the winner vertically (|)\n"
          ],
          "name": "stdout"
        }
      ]
    },
    {
      "cell_type": "markdown",
      "metadata": {
        "id": "d539OF3SHywB",
        "colab_type": "text"
      },
      "source": [
        "The idea behind f-strings is to make string interpolation simpler. ... The string itself can be formatted in much the same way that you would with str.format(). F-strings provide a concise and convenient way to embed python expressions inside string literals for formatting"
      ]
    },
    {
      "cell_type": "code",
      "metadata": {
        "id": "JU_OCTadHt5d",
        "colab_type": "code",
        "colab": {
          "base_uri": "https://localhost:8080/",
          "height": 936
        },
        "outputId": "a8395133-0d86-4eca-c480-dddceff35daf"
      },
      "source": [
        "# putting all the things together\n",
        "game = [[1,2,2],\n",
        "        [1,1,2],\n",
        "        [1,2,1],]\n",
        "#HORZONTAL\n",
        "def win(current_game):\n",
        "  for row in game:\n",
        "    print(row)\n",
        "    if row.count(row[0]) == len(row) and row[0] != 0:\n",
        "          print(f\"player{row[0]} is the winner horizontally\")\n",
        "        \n",
        "        \n",
        "  #DIAGONAL\n",
        "  diags = []\n",
        "  for col,row in enumerate (reversed(range(len(game)))):\n",
        "    diags.append(game[row][col])\n",
        "  if diags.count(diags[0]) == len(diags) and diags[0] != 0:\n",
        "    print(f\"player{diags[0]} is the winner diagonally(/)\") \n",
        "    \n",
        "  diags = []\n",
        "  for ix in range(len(game)):\n",
        "    diags.append(game[ix][ix])\n",
        "  if diags.count(diags[0]) == len(diags) and diags[0] != 0:\n",
        "    print(f\"player{diags[0]} is the winner diagonally(\\\\)\")  \n",
        "    \n",
        "    \n",
        "  #VERTICAL  \n",
        "  for col in range(len(game)):\n",
        "    check = []\n",
        "    for row in game:\n",
        "      check.append(row[col])\n",
        "    if check.count(check[0]) == len(check) and check[0] != 0:\n",
        "      print(f\"player{diags[0]} is the winner vertically (|)\") \n",
        "      \n",
        "      \n",
        "      \n",
        "def game_board(game_map,player=0,row=0,column=0,just_display=False):             #this is a function defination  #gamemap is passed\n",
        "  try:\n",
        "    print(\"   0  1  2\")                                                          #and from here function body begins\n",
        "    if not just_display:\n",
        "      game_map[row][column]=player                                               #modify it temporarily i.e parameter value \n",
        "    for count,row in enumerate(game_map):                                        #row will point to 1st elemenet of list i.e list which is [0,0,0] and count wil represent to elements of list inside list i.e 0\n",
        "      print(count,row) \n",
        "    return game_map\n",
        "  except IndexError as e:\n",
        "    print('make sure you input row/column as 0 1 or 2 ',e)\n",
        "  except Exception as e:\n",
        "    print('something went very wrong!! ',e)\n",
        "\n",
        "play = True\n",
        "players = [1,2]\n",
        "while play:\n",
        "  game = [[0,0,0],\n",
        "          [0,0,0],\n",
        "          [0,0,0],]\n",
        "  game_won = False\n",
        "  game = game_board(game,just_display= True)  \n",
        "  while not game_won:\n",
        "    current_player = 1\n",
        "    column_choice = int(input(\"what column do you want to play?(0,1,2):\"))\n",
        "    row_choice = int(input(\"what row do you want to play?(0,1,2):\"))\n",
        "    game = game_board(game,current_player,row_choice,column_choice)                        \n",
        "\n",
        "    \n",
        "#player = int(input('enter a number 0 or 1'))  \n",
        "#game = game_board(game,just_display= True)                                       #now functionis called and its value is passed to game variable\n",
        "#game = game_board(game_board,player=1,row=3,column=0)                        \n",
        "\n",
        "      \n",
        "#win(game)      "
      ],
      "execution_count": 2,
      "outputs": [
        {
          "output_type": "stream",
          "text": [
            "   0  1  2\n",
            "0 [0, 0, 0]\n",
            "1 [0, 0, 0]\n",
            "2 [0, 0, 0]\n",
            "what column do you want to play?(0,1,2):0\n",
            "what row do you want to play?(0,1,2):0\n",
            "   0  1  2\n",
            "0 [1, 0, 0]\n",
            "1 [0, 0, 0]\n",
            "2 [0, 0, 0]\n",
            "what column do you want to play?(0,1,2):1\n",
            "what row do you want to play?(0,1,2):1\n",
            "   0  1  2\n",
            "0 [1, 0, 0]\n",
            "1 [0, 1, 0]\n",
            "2 [0, 0, 0]\n",
            "what column do you want to play?(0,1,2):2\n",
            "what row do you want to play?(0,1,2):2\n",
            "   0  1  2\n",
            "0 [1, 0, 0]\n",
            "1 [0, 1, 0]\n",
            "2 [0, 0, 1]\n",
            "what column do you want to play?(0,1,2):3\n"
          ],
          "name": "stdout"
        },
        {
          "output_type": "error",
          "ename": "KeyboardInterrupt",
          "evalue": "ignored",
          "traceback": [
            "\u001b[0;31m---------------------------------------------------------------------------\u001b[0m",
            "\u001b[0;31mKeyboardInterrupt\u001b[0m                         Traceback (most recent call last)",
            "\u001b[0;32m/usr/local/lib/python3.6/dist-packages/ipykernel/kernelbase.py\u001b[0m in \u001b[0;36m_input_request\u001b[0;34m(self, prompt, ident, parent, password)\u001b[0m\n\u001b[1;32m    729\u001b[0m             \u001b[0;32mtry\u001b[0m\u001b[0;34m:\u001b[0m\u001b[0;34m\u001b[0m\u001b[0;34m\u001b[0m\u001b[0m\n\u001b[0;32m--> 730\u001b[0;31m                 \u001b[0mident\u001b[0m\u001b[0;34m,\u001b[0m \u001b[0mreply\u001b[0m \u001b[0;34m=\u001b[0m \u001b[0mself\u001b[0m\u001b[0;34m.\u001b[0m\u001b[0msession\u001b[0m\u001b[0;34m.\u001b[0m\u001b[0mrecv\u001b[0m\u001b[0;34m(\u001b[0m\u001b[0mself\u001b[0m\u001b[0;34m.\u001b[0m\u001b[0mstdin_socket\u001b[0m\u001b[0;34m,\u001b[0m \u001b[0;36m0\u001b[0m\u001b[0;34m)\u001b[0m\u001b[0;34m\u001b[0m\u001b[0;34m\u001b[0m\u001b[0m\n\u001b[0m\u001b[1;32m    731\u001b[0m             \u001b[0;32mexcept\u001b[0m \u001b[0mException\u001b[0m\u001b[0;34m:\u001b[0m\u001b[0;34m\u001b[0m\u001b[0;34m\u001b[0m\u001b[0m\n",
            "\u001b[0;32m/usr/local/lib/python3.6/dist-packages/jupyter_client/session.py\u001b[0m in \u001b[0;36mrecv\u001b[0;34m(self, socket, mode, content, copy)\u001b[0m\n\u001b[1;32m    802\u001b[0m         \u001b[0;32mtry\u001b[0m\u001b[0;34m:\u001b[0m\u001b[0;34m\u001b[0m\u001b[0;34m\u001b[0m\u001b[0m\n\u001b[0;32m--> 803\u001b[0;31m             \u001b[0mmsg_list\u001b[0m \u001b[0;34m=\u001b[0m \u001b[0msocket\u001b[0m\u001b[0;34m.\u001b[0m\u001b[0mrecv_multipart\u001b[0m\u001b[0;34m(\u001b[0m\u001b[0mmode\u001b[0m\u001b[0;34m,\u001b[0m \u001b[0mcopy\u001b[0m\u001b[0;34m=\u001b[0m\u001b[0mcopy\u001b[0m\u001b[0;34m)\u001b[0m\u001b[0;34m\u001b[0m\u001b[0;34m\u001b[0m\u001b[0m\n\u001b[0m\u001b[1;32m    804\u001b[0m         \u001b[0;32mexcept\u001b[0m \u001b[0mzmq\u001b[0m\u001b[0;34m.\u001b[0m\u001b[0mZMQError\u001b[0m \u001b[0;32mas\u001b[0m \u001b[0me\u001b[0m\u001b[0;34m:\u001b[0m\u001b[0;34m\u001b[0m\u001b[0;34m\u001b[0m\u001b[0m\n",
            "\u001b[0;32m/usr/local/lib/python3.6/dist-packages/zmq/sugar/socket.py\u001b[0m in \u001b[0;36mrecv_multipart\u001b[0;34m(self, flags, copy, track)\u001b[0m\n\u001b[1;32m    465\u001b[0m         \"\"\"\n\u001b[0;32m--> 466\u001b[0;31m         \u001b[0mparts\u001b[0m \u001b[0;34m=\u001b[0m \u001b[0;34m[\u001b[0m\u001b[0mself\u001b[0m\u001b[0;34m.\u001b[0m\u001b[0mrecv\u001b[0m\u001b[0;34m(\u001b[0m\u001b[0mflags\u001b[0m\u001b[0;34m,\u001b[0m \u001b[0mcopy\u001b[0m\u001b[0;34m=\u001b[0m\u001b[0mcopy\u001b[0m\u001b[0;34m,\u001b[0m \u001b[0mtrack\u001b[0m\u001b[0;34m=\u001b[0m\u001b[0mtrack\u001b[0m\u001b[0;34m)\u001b[0m\u001b[0;34m]\u001b[0m\u001b[0;34m\u001b[0m\u001b[0;34m\u001b[0m\u001b[0m\n\u001b[0m\u001b[1;32m    467\u001b[0m         \u001b[0;31m# have first part already, only loop while more to receive\u001b[0m\u001b[0;34m\u001b[0m\u001b[0;34m\u001b[0m\u001b[0;34m\u001b[0m\u001b[0m\n",
            "\u001b[0;32mzmq/backend/cython/socket.pyx\u001b[0m in \u001b[0;36mzmq.backend.cython.socket.Socket.recv\u001b[0;34m()\u001b[0m\n",
            "\u001b[0;32mzmq/backend/cython/socket.pyx\u001b[0m in \u001b[0;36mzmq.backend.cython.socket.Socket.recv\u001b[0;34m()\u001b[0m\n",
            "\u001b[0;32mzmq/backend/cython/socket.pyx\u001b[0m in \u001b[0;36mzmq.backend.cython.socket._recv_copy\u001b[0;34m()\u001b[0m\n",
            "\u001b[0;32m/usr/local/lib/python3.6/dist-packages/zmq/backend/cython/checkrc.pxd\u001b[0m in \u001b[0;36mzmq.backend.cython.checkrc._check_rc\u001b[0;34m()\u001b[0m\n",
            "\u001b[0;31mKeyboardInterrupt\u001b[0m: ",
            "\nDuring handling of the above exception, another exception occurred:\n",
            "\u001b[0;31mKeyboardInterrupt\u001b[0m                         Traceback (most recent call last)",
            "\u001b[0;32m<ipython-input-2-b2b356fd970f>\u001b[0m in \u001b[0;36m<module>\u001b[0;34m()\u001b[0m\n\u001b[1;32m     58\u001b[0m     \u001b[0mcurrent_player\u001b[0m \u001b[0;34m=\u001b[0m \u001b[0;36m1\u001b[0m\u001b[0;34m\u001b[0m\u001b[0;34m\u001b[0m\u001b[0m\n\u001b[1;32m     59\u001b[0m     \u001b[0mcolumn_choice\u001b[0m \u001b[0;34m=\u001b[0m \u001b[0mint\u001b[0m\u001b[0;34m(\u001b[0m\u001b[0minput\u001b[0m\u001b[0;34m(\u001b[0m\u001b[0;34m\"what column do you want to play?(0,1,2):\"\u001b[0m\u001b[0;34m)\u001b[0m\u001b[0;34m)\u001b[0m\u001b[0;34m\u001b[0m\u001b[0;34m\u001b[0m\u001b[0m\n\u001b[0;32m---> 60\u001b[0;31m     \u001b[0mrow_choice\u001b[0m \u001b[0;34m=\u001b[0m \u001b[0mint\u001b[0m\u001b[0;34m(\u001b[0m\u001b[0minput\u001b[0m\u001b[0;34m(\u001b[0m\u001b[0;34m\"what row do you want to play?(0,1,2):\"\u001b[0m\u001b[0;34m)\u001b[0m\u001b[0;34m)\u001b[0m\u001b[0;34m\u001b[0m\u001b[0;34m\u001b[0m\u001b[0m\n\u001b[0m\u001b[1;32m     61\u001b[0m     \u001b[0mgame\u001b[0m \u001b[0;34m=\u001b[0m \u001b[0mgame_board\u001b[0m\u001b[0;34m(\u001b[0m\u001b[0mgame\u001b[0m\u001b[0;34m,\u001b[0m\u001b[0mcurrent_player\u001b[0m\u001b[0;34m,\u001b[0m\u001b[0mrow_choice\u001b[0m\u001b[0;34m,\u001b[0m\u001b[0mcolumn_choice\u001b[0m\u001b[0;34m)\u001b[0m\u001b[0;34m\u001b[0m\u001b[0;34m\u001b[0m\u001b[0m\n\u001b[1;32m     62\u001b[0m \u001b[0;34m\u001b[0m\u001b[0m\n",
            "\u001b[0;32m/usr/local/lib/python3.6/dist-packages/ipykernel/kernelbase.py\u001b[0m in \u001b[0;36mraw_input\u001b[0;34m(self, prompt)\u001b[0m\n\u001b[1;32m    703\u001b[0m             \u001b[0mself\u001b[0m\u001b[0;34m.\u001b[0m\u001b[0m_parent_ident\u001b[0m\u001b[0;34m,\u001b[0m\u001b[0;34m\u001b[0m\u001b[0;34m\u001b[0m\u001b[0m\n\u001b[1;32m    704\u001b[0m             \u001b[0mself\u001b[0m\u001b[0;34m.\u001b[0m\u001b[0m_parent_header\u001b[0m\u001b[0;34m,\u001b[0m\u001b[0;34m\u001b[0m\u001b[0;34m\u001b[0m\u001b[0m\n\u001b[0;32m--> 705\u001b[0;31m             \u001b[0mpassword\u001b[0m\u001b[0;34m=\u001b[0m\u001b[0;32mFalse\u001b[0m\u001b[0;34m,\u001b[0m\u001b[0;34m\u001b[0m\u001b[0;34m\u001b[0m\u001b[0m\n\u001b[0m\u001b[1;32m    706\u001b[0m         )\n\u001b[1;32m    707\u001b[0m \u001b[0;34m\u001b[0m\u001b[0m\n",
            "\u001b[0;32m/usr/local/lib/python3.6/dist-packages/ipykernel/kernelbase.py\u001b[0m in \u001b[0;36m_input_request\u001b[0;34m(self, prompt, ident, parent, password)\u001b[0m\n\u001b[1;32m    733\u001b[0m             \u001b[0;32mexcept\u001b[0m \u001b[0mKeyboardInterrupt\u001b[0m\u001b[0;34m:\u001b[0m\u001b[0;34m\u001b[0m\u001b[0;34m\u001b[0m\u001b[0m\n\u001b[1;32m    734\u001b[0m                 \u001b[0;31m# re-raise KeyboardInterrupt, to truncate traceback\u001b[0m\u001b[0;34m\u001b[0m\u001b[0;34m\u001b[0m\u001b[0;34m\u001b[0m\u001b[0m\n\u001b[0;32m--> 735\u001b[0;31m                 \u001b[0;32mraise\u001b[0m \u001b[0mKeyboardInterrupt\u001b[0m\u001b[0;34m\u001b[0m\u001b[0;34m\u001b[0m\u001b[0m\n\u001b[0m\u001b[1;32m    736\u001b[0m             \u001b[0;32melse\u001b[0m\u001b[0;34m:\u001b[0m\u001b[0;34m\u001b[0m\u001b[0;34m\u001b[0m\u001b[0m\n\u001b[1;32m    737\u001b[0m                 \u001b[0;32mbreak\u001b[0m\u001b[0;34m\u001b[0m\u001b[0;34m\u001b[0m\u001b[0m\n",
            "\u001b[0;31mKeyboardInterrupt\u001b[0m: "
          ]
        }
      ]
    },
    {
      "cell_type": "code",
      "metadata": {
        "id": "4ZyRx-mbIL-s",
        "colab_type": "code",
        "colab": {
          "base_uri": "https://localhost:8080/",
          "height": 191
        },
        "outputId": "b697fd14-8325-4906-c47c-cbdf08d151ce"
      },
      "source": [
        "#code for switching between the players\n",
        "import itertools\n",
        "player_choice = itertools.cycle([1,2])\n",
        "\n",
        "for i in range(10):\n",
        "  print(next(player_choice))"
      ],
      "execution_count": 3,
      "outputs": [
        {
          "output_type": "stream",
          "text": [
            "1\n",
            "2\n",
            "1\n",
            "2\n",
            "1\n",
            "2\n",
            "1\n",
            "2\n",
            "1\n",
            "2\n"
          ],
          "name": "stdout"
        }
      ]
    }
  ]
}