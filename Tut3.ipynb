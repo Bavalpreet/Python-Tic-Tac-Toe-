{
  "nbformat": 4,
  "nbformat_minor": 0,
  "metadata": {
    "colab": {
      "name": "Tut3.ipynb",
      "version": "0.3.2",
      "provenance": []
    },
    "kernelspec": {
      "name": "python3",
      "display_name": "Python 3"
    }
  },
  "cells": [
    {
      "cell_type": "code",
      "metadata": {
        "id": "Dfjne64ZE1TS",
        "colab_type": "code",
        "colab": {
          "base_uri": "https://localhost:8080/",
          "height": 121
        },
        "outputId": "0131b666-8641-4e6e-a0d9-76266f59e4c8"
      },
      "source": [
        "#3\n",
        "game = [[0,0,0],\n",
        "        [0,0,0],\n",
        "        [0,0,0],]                                                                # this is a list containing three elements in form of list\n",
        " \n",
        "def game_board(game_map,player=0,row=0,column=0,just_display=False):             #this is a function defination  #gamemap is passed\n",
        "  try:\n",
        "    print(\"   0  1  2\")                                                          #and from here function body begins\n",
        "    if not just_display:\n",
        "      game_map[row][column]=player                                               #modify it temporarily i.e parameter value \n",
        "    for count,row in enumerate(game_map):                                        #row will point to 1st elemenet of list i.e list which is [0,0,0] and count wil represent to elements of list inside list i.e 0\n",
        "      print(count,row) \n",
        "    return game_map\n",
        "  except IndexError as e:\n",
        "    print('make sure you input row/column as 0 1 or 2 ',e)\n",
        "  except Exception as e:\n",
        "    print('something went very wrong!! ',e)\n",
        "    \n",
        "#player = int(input('enter a number 0 or 1'))  \n",
        "game = game_board(game,just_display= True)                                       #now functionis called and its value is passed to game variable\n",
        "game = game_board(game_board,player=1,row=3,column=0)                        \n"
      ],
      "execution_count": 1,
      "outputs": [
        {
          "output_type": "stream",
          "text": [
            "   0  1  2\n",
            "0 [0, 0, 0]\n",
            "1 [0, 0, 0]\n",
            "2 [0, 0, 0]\n",
            "   0  1  2\n",
            "something went very wrong!!  'function' object is not subscriptable\n"
          ],
          "name": "stdout"
        }
      ]
    },
    {
      "cell_type": "code",
      "metadata": {
        "id": "DccKdyjSE9Wg",
        "colab_type": "code",
        "colab": {
          "base_uri": "https://localhost:8080/",
          "height": 87
        },
        "outputId": "2facb4e9-f08e-4f2a-89be-51959c765262"
      },
      "source": [
        "game = [[1,1,1],\n",
        "        [0,0,2],\n",
        "        [0,2,0],]\n",
        "\n",
        "def win(current_game):\n",
        "  \n",
        "  for row in game:\n",
        "    print(row)\n",
        "    all_match = True\n",
        "    for item in row:\n",
        "      #print(item,row[0])\n",
        "      if item != row[0]:\n",
        "        all_match = False\n",
        "    if all_match:\n",
        "          print(\"winner\")\n",
        "        \n",
        "\n",
        "win(game)      "
      ],
      "execution_count": 2,
      "outputs": [
        {
          "output_type": "stream",
          "text": [
            "[1, 1, 1]\n",
            "winner\n",
            "[0, 0, 2]\n",
            "[0, 2, 0]\n"
          ],
          "name": "stdout"
        }
      ]
    }
  ]
}